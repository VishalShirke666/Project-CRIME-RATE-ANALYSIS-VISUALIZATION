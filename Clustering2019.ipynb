{
 "cells": [
  {
   "cell_type": "code",
   "execution_count": 1,
   "id": "1f9a1eda",
   "metadata": {},
   "outputs": [],
   "source": [
    "from sklearn.cluster import KMeans\n",
    "import pandas as pd\n",
    "from sklearn.preprocessing import MinMaxScaler\n",
    "from matplotlib import pyplot as plt\n",
    "%matplotlib inline"
   ]
  },
  {
   "cell_type": "code",
   "execution_count": 2,
   "id": "668220c6",
   "metadata": {},
   "outputs": [
    {
     "data": {
      "text/html": [
       "<div>\n",
       "<style scoped>\n",
       "    .dataframe tbody tr th:only-of-type {\n",
       "        vertical-align: middle;\n",
       "    }\n",
       "\n",
       "    .dataframe tbody tr th {\n",
       "        vertical-align: top;\n",
       "    }\n",
       "\n",
       "    .dataframe thead th {\n",
       "        text-align: right;\n",
       "    }\n",
       "</style>\n",
       "<table border=\"1\" class=\"dataframe\">\n",
       "  <thead>\n",
       "    <tr style=\"text-align: right;\">\n",
       "      <th></th>\n",
       "      <th>Homicide/Murder</th>\n",
       "      <th>Causing death by negligence</th>\n",
       "      <th>Hurt</th>\n",
       "      <th>Assault on woman</th>\n",
       "      <th>Kidnapping and abduction</th>\n",
       "      <th>Human trafficking</th>\n",
       "      <th>Rape</th>\n",
       "      <th>Offence against public tranquility</th>\n",
       "      <th>Offences against property</th>\n",
       "      <th>Offences relating to documents and property marks</th>\n",
       "      <th>Miscellaneous</th>\n",
       "      <th>Others</th>\n",
       "      <th>Population</th>\n",
       "    </tr>\n",
       "  </thead>\n",
       "  <tbody>\n",
       "    <tr>\n",
       "      <th>0</th>\n",
       "      <td>217</td>\n",
       "      <td>832</td>\n",
       "      <td>1362</td>\n",
       "      <td>486</td>\n",
       "      <td>420</td>\n",
       "      <td>0</td>\n",
       "      <td>60</td>\n",
       "      <td>759</td>\n",
       "      <td>4233</td>\n",
       "      <td>231</td>\n",
       "      <td>3585</td>\n",
       "      <td>357</td>\n",
       "      <td>4543159</td>\n",
       "    </tr>\n",
       "    <tr>\n",
       "      <th>1</th>\n",
       "      <td>96</td>\n",
       "      <td>156</td>\n",
       "      <td>1167</td>\n",
       "      <td>197</td>\n",
       "      <td>126</td>\n",
       "      <td>0</td>\n",
       "      <td>31</td>\n",
       "      <td>116</td>\n",
       "      <td>808</td>\n",
       "      <td>95</td>\n",
       "      <td>2040</td>\n",
       "      <td>385</td>\n",
       "      <td>1813906</td>\n",
       "    </tr>\n",
       "    <tr>\n",
       "      <th>2</th>\n",
       "      <td>187</td>\n",
       "      <td>316</td>\n",
       "      <td>1681</td>\n",
       "      <td>400</td>\n",
       "      <td>271</td>\n",
       "      <td>2</td>\n",
       "      <td>76</td>\n",
       "      <td>96</td>\n",
       "      <td>2233</td>\n",
       "      <td>189</td>\n",
       "      <td>4083</td>\n",
       "      <td>196</td>\n",
       "      <td>2888445</td>\n",
       "    </tr>\n",
       "    <tr>\n",
       "      <th>3</th>\n",
       "      <td>170</td>\n",
       "      <td>489</td>\n",
       "      <td>1718</td>\n",
       "      <td>344</td>\n",
       "      <td>318</td>\n",
       "      <td>0</td>\n",
       "      <td>67</td>\n",
       "      <td>347</td>\n",
       "      <td>7888</td>\n",
       "      <td>356</td>\n",
       "      <td>3190</td>\n",
       "      <td>349</td>\n",
       "      <td>3701282</td>\n",
       "    </tr>\n",
       "    <tr>\n",
       "      <th>4</th>\n",
       "      <td>129</td>\n",
       "      <td>316</td>\n",
       "      <td>955</td>\n",
       "      <td>204</td>\n",
       "      <td>128</td>\n",
       "      <td>4</td>\n",
       "      <td>47</td>\n",
       "      <td>322</td>\n",
       "      <td>940</td>\n",
       "      <td>97</td>\n",
       "      <td>1186</td>\n",
       "      <td>120</td>\n",
       "      <td>2585049</td>\n",
       "    </tr>\n",
       "  </tbody>\n",
       "</table>\n",
       "</div>"
      ],
      "text/plain": [
       "   Homicide/Murder  Causing death by negligence  Hurt  Assault on woman  \\\n",
       "0              217                          832  1362               486   \n",
       "1               96                          156  1167               197   \n",
       "2              187                          316  1681               400   \n",
       "3              170                          489  1718               344   \n",
       "4              129                          316   955               204   \n",
       "\n",
       "   Kidnapping and abduction  Human trafficking   Rape  \\\n",
       "0                       420                   0    60   \n",
       "1                       126                   0    31   \n",
       "2                       271                   2    76   \n",
       "3                       318                   0    67   \n",
       "4                       128                   4    47   \n",
       "\n",
       "   Offence against public tranquility  Offences against property  \\\n",
       "0                                 759                       4233   \n",
       "1                                 116                        808   \n",
       "2                                  96                       2233   \n",
       "3                                 347                       7888   \n",
       "4                                 322                        940   \n",
       "\n",
       "   Offences relating to documents and property marks  Miscellaneous  Others  \\\n",
       "0                                                231           3585     357   \n",
       "1                                                 95           2040     385   \n",
       "2                                                189           4083     196   \n",
       "3                                                356           3190     349   \n",
       "4                                                 97           1186     120   \n",
       "\n",
       "   Population  \n",
       "0     4543159  \n",
       "1     1813906  \n",
       "2     2888445  \n",
       "3     3701282  \n",
       "4     2585049  "
      ]
     },
     "execution_count": 2,
     "metadata": {},
     "output_type": "execute_result"
    }
   ],
   "source": [
    "df=pd.read_excel(r'DataFinal17-20.xlsx',sheet_name='2019')\n",
    "df1=df.iloc[:,2:16]\n",
    "df1=df1.drop(['Total'], axis=1)\n",
    "df1.head()"
   ]
  },
  {
   "cell_type": "code",
   "execution_count": 3,
   "id": "607222cb",
   "metadata": {},
   "outputs": [],
   "source": [
    "from sklearn.cluster import KMeans\n",
    "\n",
    "#create a list for the wcss parameter\n",
    "wcss = []\n",
    "#test with 14 clusters\n",
    "for i in range(1, 15):\n",
    "    kmeans = KMeans(n_clusters = i, init = 'k-means++', random_state = 0)\n",
    "    kmeans.fit(df1)\n",
    "    wcss.append(kmeans.inertia_)"
   ]
  },
  {
   "cell_type": "code",
   "execution_count": 4,
   "id": "9e0aff13",
   "metadata": {},
   "outputs": [
    {
     "data": {
      "text/plain": [
       "[251991187936399.2,\n",
       " 55692289849190.91,\n",
       " 19924584653473.33,\n",
       " 11064906720525.525,\n",
       " 7470714685756.528,\n",
       " 4418925900764.099,\n",
       " 2716193960092.8735,\n",
       " 1760178331067.8752,\n",
       " 955489851667.8334,\n",
       " 716228625034.8999,\n",
       " 528041128429.5249,\n",
       " 406281289101.1917,\n",
       " 300937668442.69165,\n",
       " 194269022123.81665]"
      ]
     },
     "execution_count": 4,
     "metadata": {},
     "output_type": "execute_result"
    }
   ],
   "source": [
    "wcss"
   ]
  },
  {
   "cell_type": "code",
   "execution_count": 5,
   "id": "7f6b8d66",
   "metadata": {},
   "outputs": [
    {
     "data": {
      "image/png": "[encoded data removed]",
      "text/plain": [
       "<Figure size 432x288 with 1 Axes>"
      ]
     },
     "metadata": {
      "needs_background": "light"
     },
     "output_type": "display_data"
    }
   ],
   "source": [
    "plt.plot(range(1, 15), wcss)\n",
    "plt.title('The Elbow Method')\n",
    "plt.xlabel('Number of clusters')\n",
    "plt.ylabel('WCSS')\n",
    "plt.show()"
   ]
  },
  {
   "cell_type": "code",
   "execution_count": 6,
   "id": "f2be5470",
   "metadata": {},
   "outputs": [],
   "source": [
    "km=KMeans(n_clusters=6)\n",
    "y_pred=km.fit_predict(df1)"
   ]
  },
  {
   "cell_type": "code",
   "execution_count": 7,
   "id": "65ccf6a0",
   "metadata": {},
   "outputs": [
    {
     "data": {
      "text/plain": [
       "array([2, 0, 3, 2, 3, 0, 3, 3, 0, 0, 0, 0, 2, 0, 2, 3, 1, 2, 3, 0, 4, 0,\n",
       "       0, 0, 5, 3, 0, 3, 3, 0, 2, 1, 0, 0, 3])"
      ]
     },
     "execution_count": 7,
     "metadata": {},
     "output_type": "execute_result"
    }
   ],
   "source": [
    "y_pred"
   ]
  },
  {
   "cell_type": "code",
   "execution_count": 8,
   "id": "a310188b",
   "metadata": {},
   "outputs": [
    {
     "data": {
      "text/html": [
       "<div>\n",
       "<style scoped>\n",
       "    .dataframe tbody tr th:only-of-type {\n",
       "        vertical-align: middle;\n",
       "    }\n",
       "\n",
       "    .dataframe tbody tr th {\n",
       "        vertical-align: top;\n",
       "    }\n",
       "\n",
       "    .dataframe thead th {\n",
       "        text-align: right;\n",
       "    }\n",
       "</style>\n",
       "<table border=\"1\" class=\"dataframe\">\n",
       "  <thead>\n",
       "    <tr style=\"text-align: right;\">\n",
       "      <th></th>\n",
       "      <th>SrNo</th>\n",
       "      <th>District</th>\n",
       "      <th>Homicide/Murder</th>\n",
       "      <th>Causing death by negligence</th>\n",
       "      <th>Hurt</th>\n",
       "      <th>Assault on woman</th>\n",
       "      <th>Kidnapping and abduction</th>\n",
       "      <th>Human trafficking</th>\n",
       "      <th>Rape</th>\n",
       "      <th>Offence against public tranquility</th>\n",
       "      <th>...</th>\n",
       "      <th>Others</th>\n",
       "      <th>Total</th>\n",
       "      <th>Population</th>\n",
       "      <th>Crime Rate</th>\n",
       "      <th>Sex Ratio</th>\n",
       "      <th>Literacy</th>\n",
       "      <th>Density</th>\n",
       "      <th>Latitude</th>\n",
       "      <th>Longitude</th>\n",
       "      <th>cluster</th>\n",
       "    </tr>\n",
       "  </thead>\n",
       "  <tbody>\n",
       "    <tr>\n",
       "      <th>0</th>\n",
       "      <td>1</td>\n",
       "      <td>Ahmednagar</td>\n",
       "      <td>217</td>\n",
       "      <td>832</td>\n",
       "      <td>1362</td>\n",
       "      <td>486</td>\n",
       "      <td>420</td>\n",
       "      <td>0</td>\n",
       "      <td>60</td>\n",
       "      <td>759</td>\n",
       "      <td>...</td>\n",
       "      <td>357</td>\n",
       "      <td>12542</td>\n",
       "      <td>4543159</td>\n",
       "      <td>0.276063</td>\n",
       "      <td>939</td>\n",
       "      <td>0.7905</td>\n",
       "      <td>266</td>\n",
       "      <td>19.094829</td>\n",
       "      <td>74.747979</td>\n",
       "      <td>2</td>\n",
       "    </tr>\n",
       "    <tr>\n",
       "      <th>1</th>\n",
       "      <td>2</td>\n",
       "      <td>Akola</td>\n",
       "      <td>96</td>\n",
       "      <td>156</td>\n",
       "      <td>1167</td>\n",
       "      <td>197</td>\n",
       "      <td>126</td>\n",
       "      <td>0</td>\n",
       "      <td>31</td>\n",
       "      <td>116</td>\n",
       "      <td>...</td>\n",
       "      <td>385</td>\n",
       "      <td>5217</td>\n",
       "      <td>1813906</td>\n",
       "      <td>0.287611</td>\n",
       "      <td>946</td>\n",
       "      <td>0.8805</td>\n",
       "      <td>320</td>\n",
       "      <td>20.700216</td>\n",
       "      <td>77.008168</td>\n",
       "      <td>0</td>\n",
       "    </tr>\n",
       "    <tr>\n",
       "      <th>2</th>\n",
       "      <td>3</td>\n",
       "      <td>Amravati</td>\n",
       "      <td>187</td>\n",
       "      <td>316</td>\n",
       "      <td>1681</td>\n",
       "      <td>400</td>\n",
       "      <td>271</td>\n",
       "      <td>2</td>\n",
       "      <td>76</td>\n",
       "      <td>96</td>\n",
       "      <td>...</td>\n",
       "      <td>196</td>\n",
       "      <td>9730</td>\n",
       "      <td>2888445</td>\n",
       "      <td>0.336859</td>\n",
       "      <td>951</td>\n",
       "      <td>0.8738</td>\n",
       "      <td>237</td>\n",
       "      <td>20.931982</td>\n",
       "      <td>77.752304</td>\n",
       "      <td>3</td>\n",
       "    </tr>\n",
       "    <tr>\n",
       "      <th>3</th>\n",
       "      <td>4</td>\n",
       "      <td>Aurangbad</td>\n",
       "      <td>170</td>\n",
       "      <td>489</td>\n",
       "      <td>1718</td>\n",
       "      <td>344</td>\n",
       "      <td>318</td>\n",
       "      <td>0</td>\n",
       "      <td>67</td>\n",
       "      <td>347</td>\n",
       "      <td>...</td>\n",
       "      <td>349</td>\n",
       "      <td>15236</td>\n",
       "      <td>3701282</td>\n",
       "      <td>0.411641</td>\n",
       "      <td>923</td>\n",
       "      <td>0.7902</td>\n",
       "      <td>366</td>\n",
       "      <td>19.876165</td>\n",
       "      <td>75.343314</td>\n",
       "      <td>2</td>\n",
       "    </tr>\n",
       "    <tr>\n",
       "      <th>4</th>\n",
       "      <td>5</td>\n",
       "      <td>Beed</td>\n",
       "      <td>129</td>\n",
       "      <td>316</td>\n",
       "      <td>955</td>\n",
       "      <td>204</td>\n",
       "      <td>128</td>\n",
       "      <td>4</td>\n",
       "      <td>47</td>\n",
       "      <td>322</td>\n",
       "      <td>...</td>\n",
       "      <td>120</td>\n",
       "      <td>4448</td>\n",
       "      <td>2585049</td>\n",
       "      <td>0.172066</td>\n",
       "      <td>916</td>\n",
       "      <td>0.7699</td>\n",
       "      <td>242</td>\n",
       "      <td>18.990088</td>\n",
       "      <td>75.753132</td>\n",
       "      <td>3</td>\n",
       "    </tr>\n",
       "  </tbody>\n",
       "</table>\n",
       "<p>5 rows × 23 columns</p>\n",
       "</div>"
      ],
      "text/plain": [
       "   SrNo    District  Homicide/Murder  Causing death by negligence  Hurt  \\\n",
       "0     1  Ahmednagar              217                          832  1362   \n",
       "1     2       Akola               96                          156  1167   \n",
       "2     3    Amravati              187                          316  1681   \n",
       "3     4   Aurangbad              170                          489  1718   \n",
       "4     5        Beed              129                          316   955   \n",
       "\n",
       "   Assault on woman  Kidnapping and abduction  Human trafficking   Rape  \\\n",
       "0               486                       420                   0    60   \n",
       "1               197                       126                   0    31   \n",
       "2               400                       271                   2    76   \n",
       "3               344                       318                   0    67   \n",
       "4               204                       128                   4    47   \n",
       "\n",
       "   Offence against public tranquility  ...  Others  Total  Population  \\\n",
       "0                                 759  ...     357  12542     4543159   \n",
       "1                                 116  ...     385   5217     1813906   \n",
       "2                                  96  ...     196   9730     2888445   \n",
       "3                                 347  ...     349  15236     3701282   \n",
       "4                                 322  ...     120   4448     2585049   \n",
       "\n",
       "   Crime Rate  Sex Ratio  Literacy  Density   Latitude  Longitude  cluster  \n",
       "0    0.276063        939    0.7905      266  19.094829  74.747979        2  \n",
       "1    0.287611        946    0.8805      320  20.700216  77.008168        0  \n",
       "2    0.336859        951    0.8738      237  20.931982  77.752304        3  \n",
       "3    0.411641        923    0.7902      366  19.876165  75.343314        2  \n",
       "4    0.172066        916    0.7699      242  18.990088  75.753132        3  \n",
       "\n",
       "[5 rows x 23 columns]"
      ]
     },
     "execution_count": 8,
     "metadata": {},
     "output_type": "execute_result"
    }
   ],
   "source": [
    "df['cluster']=y_pred\n",
    "df.head()"
   ]
  },
  {
   "cell_type": "code",
   "execution_count": 9,
   "id": "b2662746",
   "metadata": {},
   "outputs": [
    {
     "data": {
      "text/plain": [
       "<matplotlib.collections.PathCollection at 0x18f06b91f10>"
      ]
     },
     "execution_count": 9,
     "metadata": {},
     "output_type": "execute_result"
    },
    {
     "data": {
      "image/png": "[encoded data removed]",
      "text/plain": [
       "<Figure size 432x288 with 1 Axes>"
      ]
     },
     "metadata": {
      "needs_background": "light"
     },
     "output_type": "display_data"
    }
   ],
   "source": [
    "plt.scatter(df['SrNo'],df['cluster'])"
   ]
  },
  {
   "cell_type": "code",
   "execution_count": 10,
   "id": "649f451a",
   "metadata": {},
   "outputs": [],
   "source": [
    "from scipy.cluster.hierarchy import linkage \n",
    "import scipy.cluster.hierarchy as sch # for creating dendrogram "
   ]
  },
  {
   "cell_type": "code",
   "execution_count": 11,
   "id": "bc435dae",
   "metadata": {},
   "outputs": [],
   "source": [
    "x = linkage(df1, method=\"complete\",metric=\"euclidean\")"
   ]
  },
  {
   "cell_type": "code",
   "execution_count": 12,
   "id": "7e3bb255",
   "metadata": {},
   "outputs": [
    {
     "data": {
      "image/png": "[encoded data removed]",
      "text/plain": [
       "<Figure size 1080x504 with 1 Axes>"
      ]
     },
     "metadata": {
      "needs_background": "light"
     },
     "output_type": "display_data"
    }
   ],
   "source": [
    "plt.figure(figsize=(15, 7))\n",
    "plt.title('Hierarchical Clustering Dendrogram')\n",
    "plt.xlabel('Features')\n",
    "plt.ylabel('Crime')\n",
    "sch.dendrogram(x,\n",
    "    leaf_rotation=0.,  # rotates the x axis labels\n",
    "    leaf_font_size=8.,  # font size for the x axis labels\n",
    ")\n",
    "plt.show()"
   ]
  },
  {
   "cell_type": "code",
   "execution_count": null,
   "id": "f99cf0cc",
   "metadata": {},
   "outputs": [],
   "source": []
  }
 ],
 "metadata": {
  "kernelspec": {
   "display_name": "Python 3 (ipykernel)",
   "language": "python",
   "name": "python3"
  },
  "language_info": {
   "codemirror_mode": {
    "name": "ipython",
    "version": 3
   },
   "file_extension": ".py",
   "mimetype": "text/x-python",
   "name": "python",
   "nbconvert_exporter": "python",
   "pygments_lexer": "ipython3",
   "version": "3.9.0"
  }
 },
 "nbformat": 4,
 "nbformat_minor": 5
}
