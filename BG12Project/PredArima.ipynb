{
 "cells": [
  {
   "cell_type": "code",
   "execution_count": 40,
   "id": "0eed6d5f",
   "metadata": {},
   "outputs": [],
   "source": [
    "import numpy as np\n",
    "import matplotlib.pyplot as plt\n",
    "import pandas as pd"
   ]
  },
  {
   "cell_type": "code",
   "execution_count": 41,
   "id": "cb9e1066",
   "metadata": {},
   "outputs": [],
   "source": [
    "dataset = pd.read_excel(r'PredData.xlsx',sheet_name='heatmap', index_col='YEAR')\n",
    "dat1 = pd.read_excel(r'PredData.xlsx',sheet_name='heatmap')"
   ]
  },
  {
   "cell_type": "code",
   "execution_count": 42,
   "id": "006175de",
   "metadata": {},
   "outputs": [
    {
     "data": {
      "text/html": [
       "<div>\n",
       "<style scoped>\n",
       "    .dataframe tbody tr th:only-of-type {\n",
       "        vertical-align: middle;\n",
       "    }\n",
       "\n",
       "    .dataframe tbody tr th {\n",
       "        vertical-align: top;\n",
       "    }\n",
       "\n",
       "    .dataframe thead th {\n",
       "        text-align: right;\n",
       "    }\n",
       "</style>\n",
       "<table border=\"1\" class=\"dataframe\">\n",
       "  <thead>\n",
       "    <tr style=\"text-align: right;\">\n",
       "      <th></th>\n",
       "      <th>District</th>\n",
       "      <th>Homicide/Murder</th>\n",
       "      <th>Causing_Death_by_Negligence</th>\n",
       "      <th>Hurt</th>\n",
       "      <th>Assault_on_Women_with_intent_to_outrage_her_Modesty</th>\n",
       "      <th>Kidnapping_&amp;_Abduction_Total</th>\n",
       "      <th>HumanTrafficking</th>\n",
       "      <th>Rape</th>\n",
       "      <th>Offences_against_State</th>\n",
       "      <th>Miscellanious</th>\n",
       "      <th>Other_IPC_crimes</th>\n",
       "      <th>Total</th>\n",
       "      <th>Population</th>\n",
       "      <th>Crime Rate</th>\n",
       "      <th>Latitude</th>\n",
       "      <th>Longitude</th>\n",
       "    </tr>\n",
       "    <tr>\n",
       "      <th>YEAR</th>\n",
       "      <th></th>\n",
       "      <th></th>\n",
       "      <th></th>\n",
       "      <th></th>\n",
       "      <th></th>\n",
       "      <th></th>\n",
       "      <th></th>\n",
       "      <th></th>\n",
       "      <th></th>\n",
       "      <th></th>\n",
       "      <th></th>\n",
       "      <th></th>\n",
       "      <th></th>\n",
       "      <th></th>\n",
       "      <th></th>\n",
       "      <th></th>\n",
       "    </tr>\n",
       "  </thead>\n",
       "  <tbody>\n",
       "    <tr>\n",
       "      <th>2014</th>\n",
       "      <td>Ahmednagar</td>\n",
       "      <td>189</td>\n",
       "      <td>736</td>\n",
       "      <td>199</td>\n",
       "      <td>541</td>\n",
       "      <td>121</td>\n",
       "      <td>0</td>\n",
       "      <td>104</td>\n",
       "      <td>0</td>\n",
       "      <td>3954</td>\n",
       "      <td>1113</td>\n",
       "      <td>6957</td>\n",
       "      <td>4543159</td>\n",
       "      <td>153.131334</td>\n",
       "      <td>19.094829</td>\n",
       "      <td>74.747979</td>\n",
       "    </tr>\n",
       "    <tr>\n",
       "      <th>2014</th>\n",
       "      <td>Akola</td>\n",
       "      <td>105</td>\n",
       "      <td>141</td>\n",
       "      <td>121</td>\n",
       "      <td>375</td>\n",
       "      <td>42</td>\n",
       "      <td>0</td>\n",
       "      <td>53</td>\n",
       "      <td>0</td>\n",
       "      <td>1872</td>\n",
       "      <td>1724</td>\n",
       "      <td>4433</td>\n",
       "      <td>1813906</td>\n",
       "      <td>244.389731</td>\n",
       "      <td>20.700216</td>\n",
       "      <td>77.008168</td>\n",
       "    </tr>\n",
       "    <tr>\n",
       "      <th>2014</th>\n",
       "      <td>Amravati</td>\n",
       "      <td>197</td>\n",
       "      <td>319</td>\n",
       "      <td>338</td>\n",
       "      <td>897</td>\n",
       "      <td>112</td>\n",
       "      <td>0</td>\n",
       "      <td>130</td>\n",
       "      <td>0</td>\n",
       "      <td>4122</td>\n",
       "      <td>4171</td>\n",
       "      <td>10286</td>\n",
       "      <td>2888445</td>\n",
       "      <td>356.108564</td>\n",
       "      <td>20.931982</td>\n",
       "      <td>77.752304</td>\n",
       "    </tr>\n",
       "    <tr>\n",
       "      <th>2014</th>\n",
       "      <td>Aurangabad</td>\n",
       "      <td>202</td>\n",
       "      <td>481</td>\n",
       "      <td>148</td>\n",
       "      <td>794</td>\n",
       "      <td>100</td>\n",
       "      <td>0</td>\n",
       "      <td>58</td>\n",
       "      <td>0</td>\n",
       "      <td>5074</td>\n",
       "      <td>2201</td>\n",
       "      <td>9058</td>\n",
       "      <td>3701282</td>\n",
       "      <td>244.726017</td>\n",
       "      <td>19.876165</td>\n",
       "      <td>75.343314</td>\n",
       "    </tr>\n",
       "    <tr>\n",
       "      <th>2014</th>\n",
       "      <td>Beed</td>\n",
       "      <td>170</td>\n",
       "      <td>304</td>\n",
       "      <td>121</td>\n",
       "      <td>590</td>\n",
       "      <td>72</td>\n",
       "      <td>0</td>\n",
       "      <td>70</td>\n",
       "      <td>0</td>\n",
       "      <td>2381</td>\n",
       "      <td>1156</td>\n",
       "      <td>4864</td>\n",
       "      <td>2585049</td>\n",
       "      <td>188.158909</td>\n",
       "      <td>18.990088</td>\n",
       "      <td>75.753132</td>\n",
       "    </tr>\n",
       "  </tbody>\n",
       "</table>\n",
       "</div>"
      ],
      "text/plain": [
       "        District  Homicide/Murder  Causing_Death_by_Negligence  Hurt  \\\n",
       "YEAR                                                                   \n",
       "2014  Ahmednagar              189                          736   199   \n",
       "2014       Akola              105                          141   121   \n",
       "2014    Amravati              197                          319   338   \n",
       "2014  Aurangabad              202                          481   148   \n",
       "2014        Beed              170                          304   121   \n",
       "\n",
       "      Assault_on_Women_with_intent_to_outrage_her_Modesty  \\\n",
       "YEAR                                                        \n",
       "2014                                                541     \n",
       "2014                                                375     \n",
       "2014                                                897     \n",
       "2014                                                794     \n",
       "2014                                                590     \n",
       "\n",
       "      Kidnapping_&_Abduction_Total  HumanTrafficking  Rape  \\\n",
       "YEAR                                                         \n",
       "2014                           121                 0   104   \n",
       "2014                            42                 0    53   \n",
       "2014                           112                 0   130   \n",
       "2014                           100                 0    58   \n",
       "2014                            72                 0    70   \n",
       "\n",
       "      Offences_against_State  Miscellanious  Other_IPC_crimes  Total  \\\n",
       "YEAR                                                                   \n",
       "2014                       0           3954              1113   6957   \n",
       "2014                       0           1872              1724   4433   \n",
       "2014                       0           4122              4171  10286   \n",
       "2014                       0           5074              2201   9058   \n",
       "2014                       0           2381              1156   4864   \n",
       "\n",
       "      Population  Crime Rate   Latitude  Longitude  \n",
       "YEAR                                                \n",
       "2014     4543159  153.131334  19.094829  74.747979  \n",
       "2014     1813906  244.389731  20.700216  77.008168  \n",
       "2014     2888445  356.108564  20.931982  77.752304  \n",
       "2014     3701282  244.726017  19.876165  75.343314  \n",
       "2014     2585049  188.158909  18.990088  75.753132  "
      ]
     },
     "execution_count": 42,
     "metadata": {},
     "output_type": "execute_result"
    }
   ],
   "source": [
    "dataset.head()\n"
   ]
  },
  {
   "cell_type": "code",
   "execution_count": 43,
   "id": "8e927436",
   "metadata": {},
   "outputs": [],
   "source": [
    "dataset = dataset.drop(['Crime Rate','Population','Latitude','Longitude'], axis=1)\n",
    "dat1 = dat1.drop(['Crime Rate','Population','Latitude','Longitude'], axis=1)"
   ]
  },
  {
   "cell_type": "code",
   "execution_count": 44,
   "id": "7cd677fa",
   "metadata": {},
   "outputs": [
    {
     "name": "stdout",
     "output_type": "stream",
     "text": [
      "shape of dataset (245, 12)\n"
     ]
    },
    {
     "data": {
      "text/html": [
       "<div>\n",
       "<style scoped>\n",
       "    .dataframe tbody tr th:only-of-type {\n",
       "        vertical-align: middle;\n",
       "    }\n",
       "\n",
       "    .dataframe tbody tr th {\n",
       "        vertical-align: top;\n",
       "    }\n",
       "\n",
       "    .dataframe thead th {\n",
       "        text-align: right;\n",
       "    }\n",
       "</style>\n",
       "<table border=\"1\" class=\"dataframe\">\n",
       "  <thead>\n",
       "    <tr style=\"text-align: right;\">\n",
       "      <th></th>\n",
       "      <th>District</th>\n",
       "      <th>Homicide/Murder</th>\n",
       "      <th>Causing_Death_by_Negligence</th>\n",
       "      <th>Hurt</th>\n",
       "      <th>Assault_on_Women_with_intent_to_outrage_her_Modesty</th>\n",
       "      <th>Kidnapping_&amp;_Abduction_Total</th>\n",
       "      <th>HumanTrafficking</th>\n",
       "      <th>Rape</th>\n",
       "      <th>Offences_against_State</th>\n",
       "      <th>Miscellanious</th>\n",
       "      <th>Other_IPC_crimes</th>\n",
       "      <th>Total</th>\n",
       "    </tr>\n",
       "    <tr>\n",
       "      <th>YEAR</th>\n",
       "      <th></th>\n",
       "      <th></th>\n",
       "      <th></th>\n",
       "      <th></th>\n",
       "      <th></th>\n",
       "      <th></th>\n",
       "      <th></th>\n",
       "      <th></th>\n",
       "      <th></th>\n",
       "      <th></th>\n",
       "      <th></th>\n",
       "      <th></th>\n",
       "    </tr>\n",
       "  </thead>\n",
       "  <tbody>\n",
       "    <tr>\n",
       "      <th>2014</th>\n",
       "      <td>Ahmednagar</td>\n",
       "      <td>189</td>\n",
       "      <td>736</td>\n",
       "      <td>199</td>\n",
       "      <td>541</td>\n",
       "      <td>121</td>\n",
       "      <td>0</td>\n",
       "      <td>104</td>\n",
       "      <td>0</td>\n",
       "      <td>3954</td>\n",
       "      <td>1113</td>\n",
       "      <td>6957</td>\n",
       "    </tr>\n",
       "    <tr>\n",
       "      <th>2014</th>\n",
       "      <td>Akola</td>\n",
       "      <td>105</td>\n",
       "      <td>141</td>\n",
       "      <td>121</td>\n",
       "      <td>375</td>\n",
       "      <td>42</td>\n",
       "      <td>0</td>\n",
       "      <td>53</td>\n",
       "      <td>0</td>\n",
       "      <td>1872</td>\n",
       "      <td>1724</td>\n",
       "      <td>4433</td>\n",
       "    </tr>\n",
       "    <tr>\n",
       "      <th>2014</th>\n",
       "      <td>Amravati</td>\n",
       "      <td>197</td>\n",
       "      <td>319</td>\n",
       "      <td>338</td>\n",
       "      <td>897</td>\n",
       "      <td>112</td>\n",
       "      <td>0</td>\n",
       "      <td>130</td>\n",
       "      <td>0</td>\n",
       "      <td>4122</td>\n",
       "      <td>4171</td>\n",
       "      <td>10286</td>\n",
       "    </tr>\n",
       "    <tr>\n",
       "      <th>2014</th>\n",
       "      <td>Aurangabad</td>\n",
       "      <td>202</td>\n",
       "      <td>481</td>\n",
       "      <td>148</td>\n",
       "      <td>794</td>\n",
       "      <td>100</td>\n",
       "      <td>0</td>\n",
       "      <td>58</td>\n",
       "      <td>0</td>\n",
       "      <td>5074</td>\n",
       "      <td>2201</td>\n",
       "      <td>9058</td>\n",
       "    </tr>\n",
       "    <tr>\n",
       "      <th>2014</th>\n",
       "      <td>Beed</td>\n",
       "      <td>170</td>\n",
       "      <td>304</td>\n",
       "      <td>121</td>\n",
       "      <td>590</td>\n",
       "      <td>72</td>\n",
       "      <td>0</td>\n",
       "      <td>70</td>\n",
       "      <td>0</td>\n",
       "      <td>2381</td>\n",
       "      <td>1156</td>\n",
       "      <td>4864</td>\n",
       "    </tr>\n",
       "  </tbody>\n",
       "</table>\n",
       "</div>"
      ],
      "text/plain": [
       "        District  Homicide/Murder  Causing_Death_by_Negligence  Hurt  \\\n",
       "YEAR                                                                   \n",
       "2014  Ahmednagar              189                          736   199   \n",
       "2014       Akola              105                          141   121   \n",
       "2014    Amravati              197                          319   338   \n",
       "2014  Aurangabad              202                          481   148   \n",
       "2014        Beed              170                          304   121   \n",
       "\n",
       "      Assault_on_Women_with_intent_to_outrage_her_Modesty  \\\n",
       "YEAR                                                        \n",
       "2014                                                541     \n",
       "2014                                                375     \n",
       "2014                                                897     \n",
       "2014                                                794     \n",
       "2014                                                590     \n",
       "\n",
       "      Kidnapping_&_Abduction_Total  HumanTrafficking  Rape  \\\n",
       "YEAR                                                         \n",
       "2014                           121                 0   104   \n",
       "2014                            42                 0    53   \n",
       "2014                           112                 0   130   \n",
       "2014                           100                 0    58   \n",
       "2014                            72                 0    70   \n",
       "\n",
       "      Offences_against_State  Miscellanious  Other_IPC_crimes  Total  \n",
       "YEAR                                                                  \n",
       "2014                       0           3954              1113   6957  \n",
       "2014                       0           1872              1724   4433  \n",
       "2014                       0           4122              4171  10286  \n",
       "2014                       0           5074              2201   9058  \n",
       "2014                       0           2381              1156   4864  "
      ]
     },
     "execution_count": 44,
     "metadata": {},
     "output_type": "execute_result"
    }
   ],
   "source": [
    "dataset = dataset.dropna()\n",
    "print('shape of dataset',dataset.shape)\n",
    "dataset.head()"
   ]
  },
  {
   "cell_type": "code",
   "execution_count": 45,
   "id": "29e1537e",
   "metadata": {},
   "outputs": [
    {
     "data": {
      "text/plain": [
       "0      Ahmednagar\n",
       "1           Akola\n",
       "2        Amravati\n",
       "3      Aurangabad\n",
       "4            Beed\n",
       "          ...    \n",
       "240       Solapur\n",
       "241         Thane\n",
       "242        Wardha\n",
       "243        Washim\n",
       "244      Yavatmal\n",
       "Name: District, Length: 245, dtype: object"
      ]
     },
     "execution_count": 45,
     "metadata": {},
     "output_type": "execute_result"
    }
   ],
   "source": [
    "dist=dat1['District']\n",
    "#dist=dist.drop(['YEAR'],axis=2)\n",
    "dist"
   ]
  },
  {
   "cell_type": "code",
   "execution_count": 46,
   "id": "6967bbf8",
   "metadata": {},
   "outputs": [
    {
     "data": {
      "text/plain": [
       "array(['Ahmednagar', 'Akola', 'Amravati', 'Aurangabad', 'Beed',\n",
       "       'Bhandara', 'Buldhana', 'Chandrapur', 'Dhule', 'Gadchiroli',\n",
       "       'Gondia', 'Hingoli', 'Jalgaon', 'Jalna', 'Kolhapur', 'Latur',\n",
       "       'Mumbai', 'Nagpur', 'Nanded', 'Nandurbar', 'Nasik', 'Navi Mumbai',\n",
       "       'Osmanabad', 'Parbhani', 'Pune', 'Raigad', 'Ratnagiri', 'Sangli',\n",
       "       'Satara', 'Sindhudurg', 'Solapur', 'Thane', 'Wardha', 'Washim',\n",
       "       'Yavatmal', 'Aurangbad'], dtype=object)"
      ]
     },
     "execution_count": 46,
     "metadata": {},
     "output_type": "execute_result"
    }
   ],
   "source": [
    "dist1=dist.unique()\n",
    "dist1"
   ]
  },
  {
   "cell_type": "code",
   "execution_count": 159,
   "id": "9f4d944a",
   "metadata": {},
   "outputs": [],
   "source": [
    "for i in dist1:\n",
    "   # if (dataset.loc(0) == \"Ahmednagar\"):\n",
    "    newdata=dataset.iloc[:, lambda df: [11]].where(dataset['District']=='Pune')\n",
    "#df['Comedy_Score'].where(df['Rating_Score'] < 50)\n",
    "#df.loc[df['first_name']=='Mihir']"
   ]
  },
  {
   "cell_type": "code",
   "execution_count": 160,
   "id": "7e201e1d",
   "metadata": {},
   "outputs": [
    {
     "data": {
      "text/html": [
       "<div>\n",
       "<style scoped>\n",
       "    .dataframe tbody tr th:only-of-type {\n",
       "        vertical-align: middle;\n",
       "    }\n",
       "\n",
       "    .dataframe tbody tr th {\n",
       "        vertical-align: top;\n",
       "    }\n",
       "\n",
       "    .dataframe thead th {\n",
       "        text-align: right;\n",
       "    }\n",
       "</style>\n",
       "<table border=\"1\" class=\"dataframe\">\n",
       "  <thead>\n",
       "    <tr style=\"text-align: right;\">\n",
       "      <th></th>\n",
       "      <th>Total</th>\n",
       "    </tr>\n",
       "    <tr>\n",
       "      <th>YEAR</th>\n",
       "      <th></th>\n",
       "    </tr>\n",
       "  </thead>\n",
       "  <tbody>\n",
       "    <tr>\n",
       "      <th>2014</th>\n",
       "      <td>25478.0</td>\n",
       "    </tr>\n",
       "    <tr>\n",
       "      <th>2015</th>\n",
       "      <td>27932.0</td>\n",
       "    </tr>\n",
       "    <tr>\n",
       "      <th>2016</th>\n",
       "      <td>26933.0</td>\n",
       "    </tr>\n",
       "    <tr>\n",
       "      <th>2017</th>\n",
       "      <td>29809.0</td>\n",
       "    </tr>\n",
       "    <tr>\n",
       "      <th>2018</th>\n",
       "      <td>37638.0</td>\n",
       "    </tr>\n",
       "    <tr>\n",
       "      <th>2019</th>\n",
       "      <td>38303.0</td>\n",
       "    </tr>\n",
       "    <tr>\n",
       "      <th>2020</th>\n",
       "      <td>55814.0</td>\n",
       "    </tr>\n",
       "  </tbody>\n",
       "</table>\n",
       "</div>"
      ],
      "text/plain": [
       "        Total\n",
       "YEAR         \n",
       "2014  25478.0\n",
       "2015  27932.0\n",
       "2016  26933.0\n",
       "2017  29809.0\n",
       "2018  37638.0\n",
       "2019  38303.0\n",
       "2020  55814.0"
      ]
     },
     "execution_count": 160,
     "metadata": {},
     "output_type": "execute_result"
    }
   ],
   "source": [
    "newdata=newdata.dropna()\n",
    "newdata\n",
    "#newdata=dataset.iloc[:, lambda df: [0,11]].where(dataset['District']=='Ahmednagar')"
   ]
  },
  {
   "cell_type": "code",
   "execution_count": 161,
   "id": "e3977004",
   "metadata": {},
   "outputs": [
    {
     "data": {
      "text/plain": [
       "<AxesSubplot:xlabel='YEAR'>"
      ]
     },
     "execution_count": 161,
     "metadata": {},
     "output_type": "execute_result"
    },
    {
     "data": {
      "image/png": "[encoded data removed]",
      "text/plain": [
       "<Figure size 864x360 with 1 Axes>"
      ]
     },
     "metadata": {
      "needs_background": "light"
     },
     "output_type": "display_data"
    }
   ],
   "source": [
    "newdata['Total'].plot(figsize=(12,5))"
   ]
  },
  {
   "cell_type": "code",
   "execution_count": 162,
   "id": "aa7fcb6e",
   "metadata": {},
   "outputs": [
    {
     "name": "stdout",
     "output_type": "stream",
     "text": [
      "1. ADF :  2.444817411214909\n",
      "2. P-Value :  0.9990298641757719\n",
      "3. Num Of Lags :  1\n",
      "4. Num Of Observations Used For ADF Regression: 5\n",
      "5. Critical Values :\n",
      "\t 1% :  -6.045114\n",
      "\t 5% :  -3.9292800000000003\n",
      "\t 10% :  -2.98681\n"
     ]
    }
   ],
   "source": [
    "from statsmodels.tsa.stattools import adfuller\n",
    "def ad_test(newdata):\n",
    "     dftest = adfuller(newdata, autolag = 'AIC')\n",
    "     print(\"1. ADF : \",dftest[0])\n",
    "     print(\"2. P-Value : \", dftest[1])\n",
    "     print(\"3. Num Of Lags : \", dftest[2])\n",
    "     print(\"4. Num Of Observations Used For ADF Regression:\",      dftest[3])\n",
    "     print(\"5. Critical Values :\")\n",
    "     for key, val in dftest[4].items():\n",
    "         print(\"\\t\",key, \": \", val)\n",
    "ad_test(newdata['Total'])"
   ]
  },
  {
   "cell_type": "code",
   "execution_count": 163,
   "id": "d3163397",
   "metadata": {},
   "outputs": [],
   "source": [
    "from pmdarima import auto_arima\n",
    "import warnings\n",
    "warnings.filterwarnings(\"ignore\")"
   ]
  },
  {
   "cell_type": "code",
   "execution_count": 164,
   "id": "db3e05d5",
   "metadata": {},
   "outputs": [
    {
     "name": "stdout",
     "output_type": "stream",
     "text": [
      "Performing stepwise search to minimize aic\n",
      " ARIMA(1,0,1)(0,0,0)[0] intercept   : AIC=inf, Time=0.10 sec\n",
      " ARIMA(0,0,0)(0,0,0)[0] intercept   : AIC=152.631, Time=0.01 sec\n",
      " ARIMA(1,0,0)(0,0,0)[0] intercept   : AIC=166.086, Time=0.07 sec\n",
      " ARIMA(0,0,1)(0,0,0)[0] intercept   : AIC=inf, Time=0.04 sec\n",
      " ARIMA(0,0,0)(0,0,0)[0]             : AIC=168.720, Time=0.01 sec\n",
      "\n",
      "Best model:  ARIMA(0,0,0)(0,0,0)[0] intercept\n",
      "Total fit time: 0.233 seconds\n"
     ]
    },
    {
     "data": {
      "text/html": [
       "<table class=\"simpletable\">\n",
       "<caption>SARIMAX Results</caption>\n",
       "<tr>\n",
       "  <th>Dep. Variable:</th>           <td>y</td>        <th>  No. Observations:  </th>    <td>7</td>   \n",
       "</tr>\n",
       "<tr>\n",
       "  <th>Model:</th>                <td>SARIMAX</td>     <th>  Log Likelihood     </th> <td>-74.316</td>\n",
       "</tr>\n",
       "<tr>\n",
       "  <th>Date:</th>            <td>Fri, 07 Apr 2023</td> <th>  AIC                </th> <td>152.631</td>\n",
       "</tr>\n",
       "<tr>\n",
       "  <th>Time:</th>                <td>15:52:59</td>     <th>  BIC                </th> <td>152.523</td>\n",
       "</tr>\n",
       "<tr>\n",
       "  <th>Sample:</th>                  <td>0</td>        <th>  HQIC               </th> <td>151.294</td>\n",
       "</tr>\n",
       "<tr>\n",
       "  <th></th>                       <td> - 7</td>       <th>                     </th>    <td> </td>   \n",
       "</tr>\n",
       "<tr>\n",
       "  <th>Covariance Type:</th>        <td>opg</td>       <th>                     </th>    <td> </td>   \n",
       "</tr>\n",
       "</table>\n",
       "<table class=\"simpletable\">\n",
       "<tr>\n",
       "      <td></td>         <th>coef</th>     <th>std err</th>      <th>z</th>      <th>P>|z|</th>  <th>[0.025</th>    <th>0.975]</th>  \n",
       "</tr>\n",
       "<tr>\n",
       "  <th>intercept</th> <td> 3.456e+04</td> <td> 6202.940</td> <td>    5.571</td> <td> 0.000</td> <td> 2.24e+04</td> <td> 4.67e+04</td>\n",
       "</tr>\n",
       "<tr>\n",
       "  <th>sigma2</th>    <td> 9.748e+07</td> <td> 8.14e+07</td> <td>    1.197</td> <td> 0.231</td> <td>-6.21e+07</td> <td> 2.57e+08</td>\n",
       "</tr>\n",
       "</table>\n",
       "<table class=\"simpletable\">\n",
       "<tr>\n",
       "  <th>Ljung-Box (L1) (Q):</th>     <td>1.13</td> <th>  Jarque-Bera (JB):  </th> <td>1.70</td>\n",
       "</tr>\n",
       "<tr>\n",
       "  <th>Prob(Q):</th>                <td>0.29</td> <th>  Prob(JB):          </th> <td>0.43</td>\n",
       "</tr>\n",
       "<tr>\n",
       "  <th>Heteroskedasticity (H):</th> <td>3.69</td> <th>  Skew:              </th> <td>1.20</td>\n",
       "</tr>\n",
       "<tr>\n",
       "  <th>Prob(H) (two-sided):</th>    <td>0.43</td> <th>  Kurtosis:          </th> <td>3.26</td>\n",
       "</tr>\n",
       "</table><br/><br/>Warnings:<br/>[1] Covariance matrix calculated using the outer product of gradients (complex-step)."
      ],
      "text/plain": [
       "<class 'statsmodels.iolib.summary.Summary'>\n",
       "\"\"\"\n",
       "                               SARIMAX Results                                \n",
       "==============================================================================\n",
       "Dep. Variable:                      y   No. Observations:                    7\n",
       "Model:                        SARIMAX   Log Likelihood                 -74.316\n",
       "Date:                Fri, 07 Apr 2023   AIC                            152.631\n",
       "Time:                        15:52:59   BIC                            152.523\n",
       "Sample:                             0   HQIC                           151.294\n",
       "                                  - 7                                         \n",
       "Covariance Type:                  opg                                         \n",
       "==============================================================================\n",
       "                 coef    std err          z      P>|z|      [0.025      0.975]\n",
       "------------------------------------------------------------------------------\n",
       "intercept   3.456e+04   6202.940      5.571      0.000    2.24e+04    4.67e+04\n",
       "sigma2      9.748e+07   8.14e+07      1.197      0.231   -6.21e+07    2.57e+08\n",
       "===================================================================================\n",
       "Ljung-Box (L1) (Q):                   1.13   Jarque-Bera (JB):                 1.70\n",
       "Prob(Q):                              0.29   Prob(JB):                         0.43\n",
       "Heteroskedasticity (H):               3.69   Skew:                             1.20\n",
       "Prob(H) (two-sided):                  0.43   Kurtosis:                         3.26\n",
       "===================================================================================\n",
       "\n",
       "Warnings:\n",
       "[1] Covariance matrix calculated using the outer product of gradients (complex-step).\n",
       "\"\"\""
      ]
     },
     "execution_count": 164,
     "metadata": {},
     "output_type": "execute_result"
    }
   ],
   "source": [
    "stepwise_fit = auto_arima(newdata['Total'], trace=True,suppress_warnings=True)\n",
    "stepwise_fit.summary()"
   ]
  },
  {
   "cell_type": "code",
   "execution_count": 176,
   "id": "6dc00322",
   "metadata": {},
   "outputs": [
    {
     "name": "stdout",
     "output_type": "stream",
     "text": [
      "(7, 1)\n",
      "(5, 1) (2, 1)\n"
     ]
    }
   ],
   "source": [
    "print(newdata.shape)\n",
    "train=newdata.iloc[:5]\n",
    "test=newdata.iloc[5:]\n",
    "print(train.shape,test.shape)\n"
   ]
  },
  {
   "cell_type": "code",
   "execution_count": 195,
   "id": "5ed83837",
   "metadata": {},
   "outputs": [
    {
     "data": {
      "text/html": [
       "<table class=\"simpletable\">\n",
       "<caption>SARIMAX Results</caption>\n",
       "<tr>\n",
       "  <th>Dep. Variable:</th>         <td>Total</td>      <th>  No. Observations:  </th>    <td>5</td>   \n",
       "</tr>\n",
       "<tr>\n",
       "  <th>Model:</th>            <td>ARIMA(1, 1, 0)</td>  <th>  Log Likelihood     </th> <td>-38.939</td>\n",
       "</tr>\n",
       "<tr>\n",
       "  <th>Date:</th>            <td>Fri, 07 Apr 2023</td> <th>  AIC                </th> <td>81.878</td> \n",
       "</tr>\n",
       "<tr>\n",
       "  <th>Time:</th>                <td>16:04:03</td>     <th>  BIC                </th> <td>80.650</td> \n",
       "</tr>\n",
       "<tr>\n",
       "  <th>Sample:</th>                  <td>0</td>        <th>  HQIC               </th> <td>79.184</td> \n",
       "</tr>\n",
       "<tr>\n",
       "  <th></th>                       <td> - 5</td>       <th>                     </th>    <td> </td>   \n",
       "</tr>\n",
       "<tr>\n",
       "  <th>Covariance Type:</th>        <td>opg</td>       <th>                     </th>    <td> </td>   \n",
       "</tr>\n",
       "</table>\n",
       "<table class=\"simpletable\">\n",
       "<tr>\n",
       "     <td></td>       <th>coef</th>     <th>std err</th>      <th>z</th>      <th>P>|z|</th>  <th>[0.025</th>    <th>0.975]</th>  \n",
       "</tr>\n",
       "<tr>\n",
       "  <th>ar.L1</th>  <td>    0.1279</td> <td>    0.640</td> <td>    0.200</td> <td> 0.842</td> <td>   -1.126</td> <td>    1.382</td>\n",
       "</tr>\n",
       "<tr>\n",
       "  <th>sigma2</th> <td> 1.708e+07</td> <td> 3.05e-08</td> <td>  5.6e+14</td> <td> 0.000</td> <td> 1.71e+07</td> <td> 1.71e+07</td>\n",
       "</tr>\n",
       "</table>\n",
       "<table class=\"simpletable\">\n",
       "<tr>\n",
       "  <th>Ljung-Box (L1) (Q):</th>     <td>0.42</td> <th>  Jarque-Bera (JB):  </th> <td>0.47</td>\n",
       "</tr>\n",
       "<tr>\n",
       "  <th>Prob(Q):</th>                <td>0.52</td> <th>  Prob(JB):          </th> <td>0.79</td>\n",
       "</tr>\n",
       "<tr>\n",
       "  <th>Heteroskedasticity (H):</th>  <td>nan</td> <th>  Skew:              </th> <td>0.53</td>\n",
       "</tr>\n",
       "<tr>\n",
       "  <th>Prob(H) (two-sided):</th>     <td>nan</td> <th>  Kurtosis:          </th> <td>1.70</td>\n",
       "</tr>\n",
       "</table><br/><br/>Warnings:<br/>[1] Covariance matrix calculated using the outer product of gradients (complex-step).<br/>[2] Covariance matrix is singular or near-singular, with condition number 2.08e+30. Standard errors may be unstable."
      ],
      "text/plain": [
       "<class 'statsmodels.iolib.summary.Summary'>\n",
       "\"\"\"\n",
       "                               SARIMAX Results                                \n",
       "==============================================================================\n",
       "Dep. Variable:                  Total   No. Observations:                    5\n",
       "Model:                 ARIMA(1, 1, 0)   Log Likelihood                 -38.939\n",
       "Date:                Fri, 07 Apr 2023   AIC                             81.878\n",
       "Time:                        16:04:03   BIC                             80.650\n",
       "Sample:                             0   HQIC                            79.184\n",
       "                                  - 5                                         \n",
       "Covariance Type:                  opg                                         \n",
       "==============================================================================\n",
       "                 coef    std err          z      P>|z|      [0.025      0.975]\n",
       "------------------------------------------------------------------------------\n",
       "ar.L1          0.1279      0.640      0.200      0.842      -1.126       1.382\n",
       "sigma2      1.708e+07   3.05e-08    5.6e+14      0.000    1.71e+07    1.71e+07\n",
       "===================================================================================\n",
       "Ljung-Box (L1) (Q):                   0.42   Jarque-Bera (JB):                 0.47\n",
       "Prob(Q):                              0.52   Prob(JB):                         0.79\n",
       "Heteroskedasticity (H):                nan   Skew:                             0.53\n",
       "Prob(H) (two-sided):                   nan   Kurtosis:                         1.70\n",
       "===================================================================================\n",
       "\n",
       "Warnings:\n",
       "[1] Covariance matrix calculated using the outer product of gradients (complex-step).\n",
       "[2] Covariance matrix is singular or near-singular, with condition number 2.08e+30. Standard errors may be unstable.\n",
       "\"\"\""
      ]
     },
     "execution_count": 195,
     "metadata": {},
     "output_type": "execute_result"
    }
   ],
   "source": [
    "from statsmodels.tsa.arima.model import ARIMA\n",
    "model=ARIMA(train['Total'],order=(1,1,0))\n",
    "model=model.fit()\n",
    "model.summary()"
   ]
  },
  {
   "cell_type": "code",
   "execution_count": 196,
   "id": "cc9e10a3",
   "metadata": {},
   "outputs": [
    {
     "name": "stdout",
     "output_type": "stream",
     "text": [
      "2019    38786.145229\n",
      "2020    38786.145229\n",
      "Name: ARIMA Predictions, dtype: float64\n"
     ]
    },
    {
     "data": {
      "text/plain": [
       "<AxesSubplot:xlabel='YEAR'>"
      ]
     },
     "execution_count": 196,
     "metadata": {},
     "output_type": "execute_result"
    },
    {
     "data": {
      "image/png": "[encoded data removed]",
      "text/plain": [
       "<Figure size 432x288 with 1 Axes>"
      ]
     },
     "metadata": {
      "needs_background": "light"
     },
     "output_type": "display_data"
    }
   ],
   "source": [
    "#start=len(train)\n",
    "#end=len(train)+len(test)-1\n",
    "pred=model.predict(start=2019,end=2020,typ='levels').rename('ARIMA Predictions')\n",
    "print(pred)\n",
    "pred.plot(legend=True)\n",
    "test['Total'].plot(legend=True)"
   ]
  },
  {
   "cell_type": "code",
   "execution_count": 190,
   "id": "eaebb6b4",
   "metadata": {},
   "outputs": [],
   "source": [
    "model_predictions=[]\n",
    "n1=len(test)\n"
   ]
  },
  {
   "cell_type": "code",
   "execution_count": 158,
   "id": "c8a9281c",
   "metadata": {},
   "outputs": [
    {
     "ename": "KeyError",
     "evalue": "0",
     "output_type": "error",
     "traceback": [
      "\u001b[1;31m---------------------------------------------------------------------------\u001b[0m",
      "\u001b[1;31mKeyError\u001b[0m                                  Traceback (most recent call last)",
      "\u001b[1;32m~\\AppData\\Local\\Programs\\Python\\Python39\\lib\\site-packages\\pandas\\core\\indexes\\base.py\u001b[0m in \u001b[0;36mget_loc\u001b[1;34m(self, key, method, tolerance)\u001b[0m\n\u001b[0;32m   3360\u001b[0m             \u001b[1;32mtry\u001b[0m\u001b[1;33m:\u001b[0m\u001b[1;33m\u001b[0m\u001b[1;33m\u001b[0m\u001b[0m\n\u001b[1;32m-> 3361\u001b[1;33m                 \u001b[1;32mreturn\u001b[0m \u001b[0mself\u001b[0m\u001b[1;33m.\u001b[0m\u001b[0m_engine\u001b[0m\u001b[1;33m.\u001b[0m\u001b[0mget_loc\u001b[0m\u001b[1;33m(\u001b[0m\u001b[0mcasted_key\u001b[0m\u001b[1;33m)\u001b[0m\u001b[1;33m\u001b[0m\u001b[1;33m\u001b[0m\u001b[0m\n\u001b[0m\u001b[0;32m   3362\u001b[0m             \u001b[1;32mexcept\u001b[0m \u001b[0mKeyError\u001b[0m \u001b[1;32mas\u001b[0m \u001b[0merr\u001b[0m\u001b[1;33m:\u001b[0m\u001b[1;33m\u001b[0m\u001b[1;33m\u001b[0m\u001b[0m\n",
      "\u001b[1;32m~\\AppData\\Local\\Programs\\Python\\Python39\\lib\\site-packages\\pandas\\_libs\\index.pyx\u001b[0m in \u001b[0;36mpandas._libs.index.IndexEngine.get_loc\u001b[1;34m()\u001b[0m\n",
      "\u001b[1;32m~\\AppData\\Local\\Programs\\Python\\Python39\\lib\\site-packages\\pandas\\_libs\\index.pyx\u001b[0m in \u001b[0;36mpandas._libs.index.IndexEngine.get_loc\u001b[1;34m()\u001b[0m\n",
      "\u001b[1;32mpandas\\_libs\\hashtable_class_helper.pxi\u001b[0m in \u001b[0;36mpandas._libs.hashtable.Int64HashTable.get_item\u001b[1;34m()\u001b[0m\n",
      "\u001b[1;32mpandas\\_libs\\hashtable_class_helper.pxi\u001b[0m in \u001b[0;36mpandas._libs.hashtable.Int64HashTable.get_item\u001b[1;34m()\u001b[0m\n",
      "\u001b[1;31mKeyError\u001b[0m: 0",
      "\nThe above exception was the direct cause of the following exception:\n",
      "\u001b[1;31mKeyError\u001b[0m                                  Traceback (most recent call last)",
      "\u001b[1;32m~\\AppData\\Local\\Temp/ipykernel_1512/3272243218.py\u001b[0m in \u001b[0;36m<module>\u001b[1;34m\u001b[0m\n\u001b[0;32m      5\u001b[0m     \u001b[0myhat\u001b[0m\u001b[1;33m=\u001b[0m\u001b[0moutput\u001b[0m\u001b[1;33m[\u001b[0m\u001b[1;36m6\u001b[0m\u001b[1;33m]\u001b[0m\u001b[1;33m.\u001b[0m\u001b[0mastype\u001b[0m\u001b[1;33m(\u001b[0m\u001b[0mint\u001b[0m\u001b[1;33m)\u001b[0m\u001b[1;33m\u001b[0m\u001b[1;33m\u001b[0m\u001b[0m\n\u001b[0;32m      6\u001b[0m     \u001b[0mmodel_predictions\u001b[0m\u001b[1;33m.\u001b[0m\u001b[0mappend\u001b[0m\u001b[1;33m(\u001b[0m\u001b[0myhat\u001b[0m\u001b[1;33m)\u001b[0m\u001b[1;33m\u001b[0m\u001b[1;33m\u001b[0m\u001b[0m\n\u001b[1;32m----> 7\u001b[1;33m     \u001b[0mactual_test_value\u001b[0m\u001b[1;33m=\u001b[0m\u001b[0mtest\u001b[0m\u001b[1;33m.\u001b[0m\u001b[0mloc\u001b[0m\u001b[1;33m[\u001b[0m\u001b[0mi\u001b[0m\u001b[1;33m]\u001b[0m\u001b[1;33m\u001b[0m\u001b[1;33m\u001b[0m\u001b[0m\n\u001b[0m\u001b[0;32m      8\u001b[0m     \u001b[0mtrain\u001b[0m\u001b[1;33m.\u001b[0m\u001b[0mappend\u001b[0m\u001b[1;33m(\u001b[0m\u001b[0mactual_test_value\u001b[0m\u001b[1;33m)\u001b[0m\u001b[1;33m\u001b[0m\u001b[1;33m\u001b[0m\u001b[0m\n\u001b[0;32m      9\u001b[0m     \u001b[1;31m#print(output)\u001b[0m\u001b[1;33m\u001b[0m\u001b[1;33m\u001b[0m\u001b[1;33m\u001b[0m\u001b[0m\n",
      "\u001b[1;32m~\\AppData\\Local\\Programs\\Python\\Python39\\lib\\site-packages\\pandas\\core\\indexing.py\u001b[0m in \u001b[0;36m__getitem__\u001b[1;34m(self, key)\u001b[0m\n\u001b[0;32m    929\u001b[0m \u001b[1;33m\u001b[0m\u001b[0m\n\u001b[0;32m    930\u001b[0m             \u001b[0mmaybe_callable\u001b[0m \u001b[1;33m=\u001b[0m \u001b[0mcom\u001b[0m\u001b[1;33m.\u001b[0m\u001b[0mapply_if_callable\u001b[0m\u001b[1;33m(\u001b[0m\u001b[0mkey\u001b[0m\u001b[1;33m,\u001b[0m \u001b[0mself\u001b[0m\u001b[1;33m.\u001b[0m\u001b[0mobj\u001b[0m\u001b[1;33m)\u001b[0m\u001b[1;33m\u001b[0m\u001b[1;33m\u001b[0m\u001b[0m\n\u001b[1;32m--> 931\u001b[1;33m             \u001b[1;32mreturn\u001b[0m \u001b[0mself\u001b[0m\u001b[1;33m.\u001b[0m\u001b[0m_getitem_axis\u001b[0m\u001b[1;33m(\u001b[0m\u001b[0mmaybe_callable\u001b[0m\u001b[1;33m,\u001b[0m \u001b[0maxis\u001b[0m\u001b[1;33m=\u001b[0m\u001b[0maxis\u001b[0m\u001b[1;33m)\u001b[0m\u001b[1;33m\u001b[0m\u001b[1;33m\u001b[0m\u001b[0m\n\u001b[0m\u001b[0;32m    932\u001b[0m \u001b[1;33m\u001b[0m\u001b[0m\n\u001b[0;32m    933\u001b[0m     \u001b[1;32mdef\u001b[0m \u001b[0m_is_scalar_access\u001b[0m\u001b[1;33m(\u001b[0m\u001b[0mself\u001b[0m\u001b[1;33m,\u001b[0m \u001b[0mkey\u001b[0m\u001b[1;33m:\u001b[0m \u001b[0mtuple\u001b[0m\u001b[1;33m)\u001b[0m\u001b[1;33m:\u001b[0m\u001b[1;33m\u001b[0m\u001b[1;33m\u001b[0m\u001b[0m\n",
      "\u001b[1;32m~\\AppData\\Local\\Programs\\Python\\Python39\\lib\\site-packages\\pandas\\core\\indexing.py\u001b[0m in \u001b[0;36m_getitem_axis\u001b[1;34m(self, key, axis)\u001b[0m\n\u001b[0;32m   1162\u001b[0m         \u001b[1;31m# fall thru to straight lookup\u001b[0m\u001b[1;33m\u001b[0m\u001b[1;33m\u001b[0m\u001b[1;33m\u001b[0m\u001b[0m\n\u001b[0;32m   1163\u001b[0m         \u001b[0mself\u001b[0m\u001b[1;33m.\u001b[0m\u001b[0m_validate_key\u001b[0m\u001b[1;33m(\u001b[0m\u001b[0mkey\u001b[0m\u001b[1;33m,\u001b[0m \u001b[0maxis\u001b[0m\u001b[1;33m)\u001b[0m\u001b[1;33m\u001b[0m\u001b[1;33m\u001b[0m\u001b[0m\n\u001b[1;32m-> 1164\u001b[1;33m         \u001b[1;32mreturn\u001b[0m \u001b[0mself\u001b[0m\u001b[1;33m.\u001b[0m\u001b[0m_get_label\u001b[0m\u001b[1;33m(\u001b[0m\u001b[0mkey\u001b[0m\u001b[1;33m,\u001b[0m \u001b[0maxis\u001b[0m\u001b[1;33m=\u001b[0m\u001b[0maxis\u001b[0m\u001b[1;33m)\u001b[0m\u001b[1;33m\u001b[0m\u001b[1;33m\u001b[0m\u001b[0m\n\u001b[0m\u001b[0;32m   1165\u001b[0m \u001b[1;33m\u001b[0m\u001b[0m\n\u001b[0;32m   1166\u001b[0m     \u001b[1;32mdef\u001b[0m \u001b[0m_get_slice_axis\u001b[0m\u001b[1;33m(\u001b[0m\u001b[0mself\u001b[0m\u001b[1;33m,\u001b[0m \u001b[0mslice_obj\u001b[0m\u001b[1;33m:\u001b[0m \u001b[0mslice\u001b[0m\u001b[1;33m,\u001b[0m \u001b[0maxis\u001b[0m\u001b[1;33m:\u001b[0m \u001b[0mint\u001b[0m\u001b[1;33m)\u001b[0m\u001b[1;33m:\u001b[0m\u001b[1;33m\u001b[0m\u001b[1;33m\u001b[0m\u001b[0m\n",
      "\u001b[1;32m~\\AppData\\Local\\Programs\\Python\\Python39\\lib\\site-packages\\pandas\\core\\indexing.py\u001b[0m in \u001b[0;36m_get_label\u001b[1;34m(self, label, axis)\u001b[0m\n\u001b[0;32m   1111\u001b[0m     \u001b[1;32mdef\u001b[0m \u001b[0m_get_label\u001b[0m\u001b[1;33m(\u001b[0m\u001b[0mself\u001b[0m\u001b[1;33m,\u001b[0m \u001b[0mlabel\u001b[0m\u001b[1;33m,\u001b[0m \u001b[0maxis\u001b[0m\u001b[1;33m:\u001b[0m \u001b[0mint\u001b[0m\u001b[1;33m)\u001b[0m\u001b[1;33m:\u001b[0m\u001b[1;33m\u001b[0m\u001b[1;33m\u001b[0m\u001b[0m\n\u001b[0;32m   1112\u001b[0m         \u001b[1;31m# GH#5667 this will fail if the label is not present in the axis.\u001b[0m\u001b[1;33m\u001b[0m\u001b[1;33m\u001b[0m\u001b[1;33m\u001b[0m\u001b[0m\n\u001b[1;32m-> 1113\u001b[1;33m         \u001b[1;32mreturn\u001b[0m \u001b[0mself\u001b[0m\u001b[1;33m.\u001b[0m\u001b[0mobj\u001b[0m\u001b[1;33m.\u001b[0m\u001b[0mxs\u001b[0m\u001b[1;33m(\u001b[0m\u001b[0mlabel\u001b[0m\u001b[1;33m,\u001b[0m \u001b[0maxis\u001b[0m\u001b[1;33m=\u001b[0m\u001b[0maxis\u001b[0m\u001b[1;33m)\u001b[0m\u001b[1;33m\u001b[0m\u001b[1;33m\u001b[0m\u001b[0m\n\u001b[0m\u001b[0;32m   1114\u001b[0m \u001b[1;33m\u001b[0m\u001b[0m\n\u001b[0;32m   1115\u001b[0m     \u001b[1;32mdef\u001b[0m \u001b[0m_handle_lowerdim_multi_index_axis0\u001b[0m\u001b[1;33m(\u001b[0m\u001b[0mself\u001b[0m\u001b[1;33m,\u001b[0m \u001b[0mtup\u001b[0m\u001b[1;33m:\u001b[0m \u001b[0mtuple\u001b[0m\u001b[1;33m)\u001b[0m\u001b[1;33m:\u001b[0m\u001b[1;33m\u001b[0m\u001b[1;33m\u001b[0m\u001b[0m\n",
      "\u001b[1;32m~\\AppData\\Local\\Programs\\Python\\Python39\\lib\\site-packages\\pandas\\core\\generic.py\u001b[0m in \u001b[0;36mxs\u001b[1;34m(self, key, axis, level, drop_level)\u001b[0m\n\u001b[0;32m   3774\u001b[0m                 \u001b[1;32mraise\u001b[0m \u001b[0mTypeError\u001b[0m\u001b[1;33m(\u001b[0m\u001b[1;34mf\"Expected label or tuple of labels, got {key}\"\u001b[0m\u001b[1;33m)\u001b[0m \u001b[1;32mfrom\u001b[0m \u001b[0me\u001b[0m\u001b[1;33m\u001b[0m\u001b[1;33m\u001b[0m\u001b[0m\n\u001b[0;32m   3775\u001b[0m         \u001b[1;32melse\u001b[0m\u001b[1;33m:\u001b[0m\u001b[1;33m\u001b[0m\u001b[1;33m\u001b[0m\u001b[0m\n\u001b[1;32m-> 3776\u001b[1;33m             \u001b[0mloc\u001b[0m \u001b[1;33m=\u001b[0m \u001b[0mindex\u001b[0m\u001b[1;33m.\u001b[0m\u001b[0mget_loc\u001b[0m\u001b[1;33m(\u001b[0m\u001b[0mkey\u001b[0m\u001b[1;33m)\u001b[0m\u001b[1;33m\u001b[0m\u001b[1;33m\u001b[0m\u001b[0m\n\u001b[0m\u001b[0;32m   3777\u001b[0m \u001b[1;33m\u001b[0m\u001b[0m\n\u001b[0;32m   3778\u001b[0m             \u001b[1;32mif\u001b[0m \u001b[0misinstance\u001b[0m\u001b[1;33m(\u001b[0m\u001b[0mloc\u001b[0m\u001b[1;33m,\u001b[0m \u001b[0mnp\u001b[0m\u001b[1;33m.\u001b[0m\u001b[0mndarray\u001b[0m\u001b[1;33m)\u001b[0m\u001b[1;33m:\u001b[0m\u001b[1;33m\u001b[0m\u001b[1;33m\u001b[0m\u001b[0m\n",
      "\u001b[1;32m~\\AppData\\Local\\Programs\\Python\\Python39\\lib\\site-packages\\pandas\\core\\indexes\\base.py\u001b[0m in \u001b[0;36mget_loc\u001b[1;34m(self, key, method, tolerance)\u001b[0m\n\u001b[0;32m   3361\u001b[0m                 \u001b[1;32mreturn\u001b[0m \u001b[0mself\u001b[0m\u001b[1;33m.\u001b[0m\u001b[0m_engine\u001b[0m\u001b[1;33m.\u001b[0m\u001b[0mget_loc\u001b[0m\u001b[1;33m(\u001b[0m\u001b[0mcasted_key\u001b[0m\u001b[1;33m)\u001b[0m\u001b[1;33m\u001b[0m\u001b[1;33m\u001b[0m\u001b[0m\n\u001b[0;32m   3362\u001b[0m             \u001b[1;32mexcept\u001b[0m \u001b[0mKeyError\u001b[0m \u001b[1;32mas\u001b[0m \u001b[0merr\u001b[0m\u001b[1;33m:\u001b[0m\u001b[1;33m\u001b[0m\u001b[1;33m\u001b[0m\u001b[0m\n\u001b[1;32m-> 3363\u001b[1;33m                 \u001b[1;32mraise\u001b[0m \u001b[0mKeyError\u001b[0m\u001b[1;33m(\u001b[0m\u001b[0mkey\u001b[0m\u001b[1;33m)\u001b[0m \u001b[1;32mfrom\u001b[0m \u001b[0merr\u001b[0m\u001b[1;33m\u001b[0m\u001b[1;33m\u001b[0m\u001b[0m\n\u001b[0m\u001b[0;32m   3364\u001b[0m \u001b[1;33m\u001b[0m\u001b[0m\n\u001b[0;32m   3365\u001b[0m         \u001b[1;32mif\u001b[0m \u001b[0mis_scalar\u001b[0m\u001b[1;33m(\u001b[0m\u001b[0mkey\u001b[0m\u001b[1;33m)\u001b[0m \u001b[1;32mand\u001b[0m \u001b[0misna\u001b[0m\u001b[1;33m(\u001b[0m\u001b[0mkey\u001b[0m\u001b[1;33m)\u001b[0m \u001b[1;32mand\u001b[0m \u001b[1;32mnot\u001b[0m \u001b[0mself\u001b[0m\u001b[1;33m.\u001b[0m\u001b[0mhasnans\u001b[0m\u001b[1;33m:\u001b[0m\u001b[1;33m\u001b[0m\u001b[1;33m\u001b[0m\u001b[0m\n",
      "\u001b[1;31mKeyError\u001b[0m: 0"
     ]
    }
   ],
   "source": [
    "for i in range(n1):\n",
    "    model=ARIMA(train,order=(4,1,0))\n",
    "    model_fit=model.fit()\n",
    "    output = model_fit.forecast()\n",
    "    yhat=output[6].astype(int)\n",
    "    model_predictions.append(yhat)\n",
    "    actual_test_value=test.loc[i]\n",
    "    train.append(actual_test_value)\n",
    "    #print(output)\n",
    "    #print(output[6])\n",
    "    break"
   ]
  },
  {
   "cell_type": "code",
   "execution_count": 148,
   "id": "3fecc498",
   "metadata": {
    "scrolled": true
   },
   "outputs": [
    {
     "ename": "TypeError",
     "evalue": "'numpy.int32' object is not iterable",
     "output_type": "error",
     "traceback": [
      "\u001b[1;31m---------------------------------------------------------------------------\u001b[0m",
      "\u001b[1;31mTypeError\u001b[0m                                 Traceback (most recent call last)",
      "\u001b[1;32m~\\AppData\\Local\\Temp/ipykernel_1512/277347170.py\u001b[0m in \u001b[0;36m<module>\u001b[1;34m\u001b[0m\n\u001b[1;32m----> 1\u001b[1;33m \u001b[0myhat\u001b[0m\u001b[1;33m=\u001b[0m\u001b[0mlist\u001b[0m\u001b[1;33m(\u001b[0m\u001b[0myhat\u001b[0m\u001b[1;33m)\u001b[0m\u001b[1;33m\u001b[0m\u001b[1;33m\u001b[0m\u001b[0m\n\u001b[0m",
      "\u001b[1;31mTypeError\u001b[0m: 'numpy.int32' object is not iterable"
     ]
    }
   ],
   "source": []
  },
  {
   "cell_type": "code",
   "execution_count": null,
   "id": "21030ca1",
   "metadata": {},
   "outputs": [],
   "source": []
  }
 ],
 "metadata": {
  "kernelspec": {
   "display_name": "Python 3 (ipykernel)",
   "language": "python",
   "name": "python3"
  },
  "language_info": {
   "codemirror_mode": {
    "name": "ipython",
    "version": 3
   },
   "file_extension": ".py",
   "mimetype": "text/x-python",
   "name": "python",
   "nbconvert_exporter": "python",
   "pygments_lexer": "ipython3",
   "version": "3.9.0"
  }
 },
 "nbformat": 4,
 "nbformat_minor": 5
}
