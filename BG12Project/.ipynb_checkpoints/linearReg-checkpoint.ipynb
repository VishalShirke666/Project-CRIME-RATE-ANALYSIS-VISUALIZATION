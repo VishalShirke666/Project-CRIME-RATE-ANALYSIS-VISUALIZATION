{
 "cells": [
  {
   "cell_type": "code",
   "execution_count": 28,
   "id": "740c7ecb",
   "metadata": {},
   "outputs": [],
   "source": [
    "import numpy as np\n",
    "import matplotlib.pyplot as plt\n",
    "%matplotlib inline\n",
    "import pandas as pd\n",
    "\n",
    "from sklearn.linear_model import LinearRegression\n"
   ]
  },
  {
   "cell_type": "code",
   "execution_count": 29,
   "id": "d0102b38",
   "metadata": {},
   "outputs": [],
   "source": [
    "dataset = pd.read_excel(r'PredData.xlsx',sheet_name='heatmap')\n",
    "dat1 = pd.read_excel(r'PredData.xlsx',sheet_name='heatmap')"
   ]
  },
  {
   "cell_type": "code",
   "execution_count": 30,
   "id": "50304e81",
   "metadata": {},
   "outputs": [],
   "source": [
    "dataset = dataset.drop(['Crime Rate','Population','Latitude','Longitude'], axis=1)\n",
    "dat1 = dat1.drop(['Crime Rate','Population','Latitude','Longitude'], axis=1)"
   ]
  },
  {
   "cell_type": "code",
   "execution_count": 31,
   "id": "73cd5da3",
   "metadata": {},
   "outputs": [
    {
     "name": "stdout",
     "output_type": "stream",
     "text": [
      "shape of dataset (245, 13)\n"
     ]
    },
    {
     "data": {
      "text/html": [
       "<div>\n",
       "<style scoped>\n",
       "    .dataframe tbody tr th:only-of-type {\n",
       "        vertical-align: middle;\n",
       "    }\n",
       "\n",
       "    .dataframe tbody tr th {\n",
       "        vertical-align: top;\n",
       "    }\n",
       "\n",
       "    .dataframe thead th {\n",
       "        text-align: right;\n",
       "    }\n",
       "</style>\n",
       "<table border=\"1\" class=\"dataframe\">\n",
       "  <thead>\n",
       "    <tr style=\"text-align: right;\">\n",
       "      <th></th>\n",
       "      <th>District</th>\n",
       "      <th>YEAR</th>\n",
       "      <th>Homicide/Murder</th>\n",
       "      <th>Causing_Death_by_Negligence</th>\n",
       "      <th>Hurt</th>\n",
       "      <th>Assault_on_Women_with_intent_to_outrage_her_Modesty</th>\n",
       "      <th>Kidnapping_&amp;_Abduction_Total</th>\n",
       "      <th>HumanTrafficking</th>\n",
       "      <th>Rape</th>\n",
       "      <th>Offences_against_State</th>\n",
       "      <th>Miscellanious</th>\n",
       "      <th>Other_IPC_crimes</th>\n",
       "      <th>Total</th>\n",
       "    </tr>\n",
       "  </thead>\n",
       "  <tbody>\n",
       "    <tr>\n",
       "      <th>0</th>\n",
       "      <td>Ahmednagar</td>\n",
       "      <td>2014</td>\n",
       "      <td>189</td>\n",
       "      <td>736</td>\n",
       "      <td>199</td>\n",
       "      <td>541</td>\n",
       "      <td>121</td>\n",
       "      <td>0</td>\n",
       "      <td>104</td>\n",
       "      <td>0</td>\n",
       "      <td>3954</td>\n",
       "      <td>1113</td>\n",
       "      <td>6957</td>\n",
       "    </tr>\n",
       "    <tr>\n",
       "      <th>1</th>\n",
       "      <td>Akola</td>\n",
       "      <td>2014</td>\n",
       "      <td>105</td>\n",
       "      <td>141</td>\n",
       "      <td>121</td>\n",
       "      <td>375</td>\n",
       "      <td>42</td>\n",
       "      <td>0</td>\n",
       "      <td>53</td>\n",
       "      <td>0</td>\n",
       "      <td>1872</td>\n",
       "      <td>1724</td>\n",
       "      <td>4433</td>\n",
       "    </tr>\n",
       "    <tr>\n",
       "      <th>2</th>\n",
       "      <td>Amravati</td>\n",
       "      <td>2014</td>\n",
       "      <td>197</td>\n",
       "      <td>319</td>\n",
       "      <td>338</td>\n",
       "      <td>897</td>\n",
       "      <td>112</td>\n",
       "      <td>0</td>\n",
       "      <td>130</td>\n",
       "      <td>0</td>\n",
       "      <td>4122</td>\n",
       "      <td>4171</td>\n",
       "      <td>10286</td>\n",
       "    </tr>\n",
       "    <tr>\n",
       "      <th>3</th>\n",
       "      <td>Aurangabad</td>\n",
       "      <td>2014</td>\n",
       "      <td>202</td>\n",
       "      <td>481</td>\n",
       "      <td>148</td>\n",
       "      <td>794</td>\n",
       "      <td>100</td>\n",
       "      <td>0</td>\n",
       "      <td>58</td>\n",
       "      <td>0</td>\n",
       "      <td>5074</td>\n",
       "      <td>2201</td>\n",
       "      <td>9058</td>\n",
       "    </tr>\n",
       "    <tr>\n",
       "      <th>4</th>\n",
       "      <td>Beed</td>\n",
       "      <td>2014</td>\n",
       "      <td>170</td>\n",
       "      <td>304</td>\n",
       "      <td>121</td>\n",
       "      <td>590</td>\n",
       "      <td>72</td>\n",
       "      <td>0</td>\n",
       "      <td>70</td>\n",
       "      <td>0</td>\n",
       "      <td>2381</td>\n",
       "      <td>1156</td>\n",
       "      <td>4864</td>\n",
       "    </tr>\n",
       "  </tbody>\n",
       "</table>\n",
       "</div>"
      ],
      "text/plain": [
       "     District  YEAR  Homicide/Murder  Causing_Death_by_Negligence  Hurt  \\\n",
       "0  Ahmednagar  2014              189                          736   199   \n",
       "1       Akola  2014              105                          141   121   \n",
       "2    Amravati  2014              197                          319   338   \n",
       "3  Aurangabad  2014              202                          481   148   \n",
       "4        Beed  2014              170                          304   121   \n",
       "\n",
       "   Assault_on_Women_with_intent_to_outrage_her_Modesty  \\\n",
       "0                                                541     \n",
       "1                                                375     \n",
       "2                                                897     \n",
       "3                                                794     \n",
       "4                                                590     \n",
       "\n",
       "   Kidnapping_&_Abduction_Total  HumanTrafficking  Rape  \\\n",
       "0                           121                 0   104   \n",
       "1                            42                 0    53   \n",
       "2                           112                 0   130   \n",
       "3                           100                 0    58   \n",
       "4                            72                 0    70   \n",
       "\n",
       "   Offences_against_State  Miscellanious  Other_IPC_crimes  Total  \n",
       "0                       0           3954              1113   6957  \n",
       "1                       0           1872              1724   4433  \n",
       "2                       0           4122              4171  10286  \n",
       "3                       0           5074              2201   9058  \n",
       "4                       0           2381              1156   4864  "
      ]
     },
     "execution_count": 31,
     "metadata": {},
     "output_type": "execute_result"
    }
   ],
   "source": [
    "dataset = dataset.dropna()\n",
    "print('shape of dataset',dataset.shape)\n",
    "dataset.head()"
   ]
  },
  {
   "cell_type": "code",
   "execution_count": 32,
   "id": "e4ec6b3d",
   "metadata": {},
   "outputs": [
    {
     "data": {
      "text/plain": [
       "0      Ahmednagar\n",
       "1           Akola\n",
       "2        Amravati\n",
       "3      Aurangabad\n",
       "4            Beed\n",
       "          ...    \n",
       "240       Solapur\n",
       "241         Thane\n",
       "242        Wardha\n",
       "243        Washim\n",
       "244      Yavatmal\n",
       "Name: District, Length: 245, dtype: object"
      ]
     },
     "execution_count": 32,
     "metadata": {},
     "output_type": "execute_result"
    }
   ],
   "source": [
    "dist=dat1['District']\n",
    "#dist=dist.drop(['YEAR'],axis=2)\n",
    "dist\n"
   ]
  },
  {
   "cell_type": "code",
   "execution_count": 33,
   "id": "b53e67e8",
   "metadata": {},
   "outputs": [
    {
     "data": {
      "text/plain": [
       "array(['Ahmednagar', 'Akola', 'Amravati', 'Aurangabad', 'Beed',\n",
       "       'Bhandara', 'Buldhana', 'Chandrapur', 'Dhule', 'Gadchiroli',\n",
       "       'Gondia', 'Hingoli', 'Jalgaon', 'Jalna', 'Kolhapur', 'Latur',\n",
       "       'Mumbai', 'Nagpur', 'Nanded', 'Nandurbar', 'Nasik', 'Navi Mumbai',\n",
       "       'Osmanabad', 'Parbhani', 'Pune', 'Raigad', 'Ratnagiri', 'Sangli',\n",
       "       'Satara', 'Sindhudurg', 'Solapur', 'Thane', 'Wardha', 'Washim',\n",
       "       'Yavatmal', 'Aurangbad'], dtype=object)"
      ]
     },
     "execution_count": 33,
     "metadata": {},
     "output_type": "execute_result"
    }
   ],
   "source": [
    "dist1=dist.unique()\n",
    "dist1"
   ]
  },
  {
   "cell_type": "code",
   "execution_count": 34,
   "id": "2a5ee525",
   "metadata": {},
   "outputs": [],
   "source": [
    "for i in dist1:\n",
    "   # if (dataset.loc(0) == \"Ahmednagar\"):\n",
    "    newdata=dataset.iloc[:, lambda df: [1,12]].where(dataset['District']=='Pune')\n",
    "#df['Comedy_Score'].where(df['Rating_Score'] < 50)\n",
    "#df.loc[df['first_name']=='Mihir']"
   ]
  },
  {
   "cell_type": "code",
   "execution_count": 35,
   "id": "6f22e817",
   "metadata": {},
   "outputs": [
    {
     "data": {
      "text/html": [
       "<div>\n",
       "<style scoped>\n",
       "    .dataframe tbody tr th:only-of-type {\n",
       "        vertical-align: middle;\n",
       "    }\n",
       "\n",
       "    .dataframe tbody tr th {\n",
       "        vertical-align: top;\n",
       "    }\n",
       "\n",
       "    .dataframe thead th {\n",
       "        text-align: right;\n",
       "    }\n",
       "</style>\n",
       "<table border=\"1\" class=\"dataframe\">\n",
       "  <thead>\n",
       "    <tr style=\"text-align: right;\">\n",
       "      <th></th>\n",
       "      <th>YEAR</th>\n",
       "      <th>Total</th>\n",
       "    </tr>\n",
       "  </thead>\n",
       "  <tbody>\n",
       "    <tr>\n",
       "      <th>24</th>\n",
       "      <td>2014.0</td>\n",
       "      <td>25478.0</td>\n",
       "    </tr>\n",
       "    <tr>\n",
       "      <th>59</th>\n",
       "      <td>2015.0</td>\n",
       "      <td>27932.0</td>\n",
       "    </tr>\n",
       "    <tr>\n",
       "      <th>94</th>\n",
       "      <td>2016.0</td>\n",
       "      <td>26933.0</td>\n",
       "    </tr>\n",
       "    <tr>\n",
       "      <th>129</th>\n",
       "      <td>2017.0</td>\n",
       "      <td>29809.0</td>\n",
       "    </tr>\n",
       "    <tr>\n",
       "      <th>164</th>\n",
       "      <td>2018.0</td>\n",
       "      <td>37638.0</td>\n",
       "    </tr>\n",
       "    <tr>\n",
       "      <th>199</th>\n",
       "      <td>2019.0</td>\n",
       "      <td>38303.0</td>\n",
       "    </tr>\n",
       "    <tr>\n",
       "      <th>234</th>\n",
       "      <td>2020.0</td>\n",
       "      <td>55814.0</td>\n",
       "    </tr>\n",
       "  </tbody>\n",
       "</table>\n",
       "</div>"
      ],
      "text/plain": [
       "       YEAR    Total\n",
       "24   2014.0  25478.0\n",
       "59   2015.0  27932.0\n",
       "94   2016.0  26933.0\n",
       "129  2017.0  29809.0\n",
       "164  2018.0  37638.0\n",
       "199  2019.0  38303.0\n",
       "234  2020.0  55814.0"
      ]
     },
     "execution_count": 35,
     "metadata": {},
     "output_type": "execute_result"
    }
   ],
   "source": [
    "ned=newdata.dropna()\n",
    "ned\n",
    "#newdata=dataset.iloc[:, lambda df: [0,11]].where(dataset['District']=='Ahmednagar')"
   ]
  },
  {
   "cell_type": "code",
   "execution_count": 36,
   "id": "dfe2f13e",
   "metadata": {},
   "outputs": [
    {
     "data": {
      "text/plain": [
       "<AxesSubplot:>"
      ]
     },
     "execution_count": 36,
     "metadata": {},
     "output_type": "execute_result"
    },
    {
     "data": {
      "image/png": "[encoded data removed]",
      "text/plain": [
       "<Figure size 864x360 with 1 Axes>"
      ]
     },
     "metadata": {
      "needs_background": "light"
     },
     "output_type": "display_data"
    }
   ],
   "source": [
    "ned['Total'].plot(figsize=(12,5))"
   ]
  },
  {
   "cell_type": "code",
   "execution_count": 37,
   "id": "e975db37",
   "metadata": {},
   "outputs": [
    {
     "data": {
      "text/plain": [
       "24     2014\n",
       "59     2015\n",
       "94     2016\n",
       "129    2017\n",
       "164    2018\n",
       "199    2019\n",
       "234    2020\n",
       "Name: YEAR, dtype: int32"
      ]
     },
     "execution_count": 37,
     "metadata": {},
     "output_type": "execute_result"
    }
   ],
   "source": [
    "X=ned.iloc[:,0].astype(int)\n",
    "X"
   ]
  },
  {
   "cell_type": "code",
   "execution_count": 38,
   "id": "464f9c42",
   "metadata": {},
   "outputs": [
    {
     "data": {
      "text/plain": [
       "array([[2014],\n",
       "       [2015],\n",
       "       [2016],\n",
       "       [2017],\n",
       "       [2018],\n",
       "       [2019],\n",
       "       [2020]])"
      ]
     },
     "execution_count": 38,
     "metadata": {},
     "output_type": "execute_result"
    }
   ],
   "source": [
    "X=ned.iloc[:,0].values.astype(int).reshape(-1,1)\n",
    "X"
   ]
  },
  {
   "cell_type": "code",
   "execution_count": 39,
   "id": "73f13e5c",
   "metadata": {},
   "outputs": [
    {
     "data": {
      "text/plain": [
       "array([25478, 27932, 26933, 29809, 37638, 38303, 55814])"
      ]
     },
     "execution_count": 39,
     "metadata": {},
     "output_type": "execute_result"
    }
   ],
   "source": [
    "y=ned.iloc[:,1].values.astype(int)\n",
    "y"
   ]
  },
  {
   "cell_type": "code",
   "execution_count": 40,
   "id": "1a89e5b9",
   "metadata": {},
   "outputs": [
    {
     "data": {
      "text/plain": [
       "Text(0, 0.5, 'Crime Cases')"
      ]
     },
     "execution_count": 40,
     "metadata": {},
     "output_type": "execute_result"
    },
    {
     "data": {
      "image/png": "[encoded data removed]",
      "text/plain": [
       "<Figure size 432x288 with 1 Axes>"
      ]
     },
     "metadata": {
      "needs_background": "light"
     },
     "output_type": "display_data"
    }
   ],
   "source": [
    "plt.scatter(X,y)\n",
    "plt.title(\"Crime Rate by year\")\n",
    "plt.xlabel(\"Year\")\n",
    "plt.ylabel(\"Crime Cases\")"
   ]
  },
  {
   "cell_type": "code",
   "execution_count": 42,
   "id": "36665c15",
   "metadata": {},
   "outputs": [],
   "source": [
    "lr=LinearRegression()\n",
    "model=lr.fit(X,y)"
   ]
  },
  {
   "cell_type": "code",
   "execution_count": 43,
   "id": "e722566d",
   "metadata": {},
   "outputs": [
    {
     "data": {
      "text/plain": [
       "-8786575.249999998"
      ]
     },
     "execution_count": 43,
     "metadata": {},
     "output_type": "execute_result"
    }
   ],
   "source": [
    "model.intercept_"
   ]
  },
  {
   "cell_type": "code",
   "execution_count": 45,
   "id": "c5e7f668",
   "metadata": {},
   "outputs": [
    {
     "data": {
      "text/plain": [
       "array([21437.96428572, 25811.35714286, 30184.75      , 34558.14285714,\n",
       "       38931.53571429, 43304.92857143, 47678.32142857])"
      ]
     },
     "execution_count": 45,
     "metadata": {},
     "output_type": "execute_result"
    }
   ],
   "source": [
    "y_pred= model.predict(X)\n",
    "y_pred"
   ]
  },
  {
   "cell_type": "code",
   "execution_count": 46,
   "id": "750be524",
   "metadata": {},
   "outputs": [
    {
     "data": {
      "text/plain": [
       "0.7848257916926582"
      ]
     },
     "execution_count": 46,
     "metadata": {},
     "output_type": "execute_result"
    }
   ],
   "source": [
    "model.score(X,y)"
   ]
  },
  {
   "cell_type": "code",
   "execution_count": 47,
   "id": "e5b84f04",
   "metadata": {},
   "outputs": [
    {
     "data": {
      "text/plain": [
       "Text(0, 0.5, 'Crime Cases')"
      ]
     },
     "execution_count": 47,
     "metadata": {},
     "output_type": "execute_result"
    },
    {
     "data": {
      "image/png": "[encoded data removed]",
      "text/plain": [
       "<Figure size 432x288 with 1 Axes>"
      ]
     },
     "metadata": {
      "needs_background": "light"
     },
     "output_type": "display_data"
    }
   ],
   "source": [
    "plt.plot(X,y,\"o\", color=\"green\")\n",
    "plt.plot(X,y_pred, color=\"orange\")\n",
    "plt.title(\"Crime Rate by year\")\n",
    "plt.xlabel(\"Year\")\n",
    "plt.ylabel(\"Crime Cases\")"
   ]
  },
  {
   "cell_type": "code",
   "execution_count": 48,
   "id": "4faf3e8e",
   "metadata": {},
   "outputs": [],
   "source": [
    "from sklearn.model_selection import train_test_split"
   ]
  },
  {
   "cell_type": "code",
   "execution_count": 51,
   "id": "849e6ca1",
   "metadata": {},
   "outputs": [],
   "source": [
    "X_train,X_test,y_train,y_test=train_test_split(X,y,test_size=0.2,random_state=0)"
   ]
  },
  {
   "cell_type": "code",
   "execution_count": 52,
   "id": "e39d2fc9",
   "metadata": {},
   "outputs": [
    {
     "data": {
      "text/plain": [
       "array([[2015],\n",
       "       [2017],\n",
       "       [2014],\n",
       "       [2019],\n",
       "       [2018]])"
      ]
     },
     "execution_count": 52,
     "metadata": {},
     "output_type": "execute_result"
    }
   ],
   "source": [
    "X_train"
   ]
  },
  {
   "cell_type": "code",
   "execution_count": 53,
   "id": "36f1f29f",
   "metadata": {},
   "outputs": [
    {
     "data": {
      "text/plain": [
       "array([[2020],\n",
       "       [2016]])"
      ]
     },
     "execution_count": 53,
     "metadata": {},
     "output_type": "execute_result"
    }
   ],
   "source": [
    "X_test"
   ]
  },
  {
   "cell_type": "code",
   "execution_count": 54,
   "id": "f7027d71",
   "metadata": {},
   "outputs": [
    {
     "data": {
      "text/plain": [
       "0.894179052040357"
      ]
     },
     "execution_count": 54,
     "metadata": {},
     "output_type": "execute_result"
    }
   ],
   "source": [
    "model=lr.fit(X_train,y_train)\n",
    "model.score(X_train,y_train)"
   ]
  },
  {
   "cell_type": "code",
   "execution_count": 55,
   "id": "cc776925",
   "metadata": {},
   "outputs": [],
   "source": [
    "y_train_pred=model.predict(X_train)"
   ]
  },
  {
   "cell_type": "code",
   "execution_count": 56,
   "id": "f0531526",
   "metadata": {},
   "outputs": [
    {
     "data": {
      "text/plain": [
       "(array([27589.20930233, 32892.69767442, 24937.46511628, 38196.18604651,\n",
       "        35544.44186047]),\n",
       " array([27932, 29809, 25478, 38303, 37638]))"
      ]
     },
     "execution_count": 56,
     "metadata": {},
     "output_type": "execute_result"
    }
   ],
   "source": [
    "y_train_pred,y_train"
   ]
  },
  {
   "cell_type": "code",
   "execution_count": 57,
   "id": "4133ca32",
   "metadata": {},
   "outputs": [
    {
     "data": {
      "text/plain": [
       "Text(0, 0.5, 'Crime Cases')"
      ]
     },
     "execution_count": 57,
     "metadata": {},
     "output_type": "execute_result"
    },
    {
     "data": {
      "image/png": "[encoded data removed]",
      "text/plain": [
       "<Figure size 432x288 with 1 Axes>"
      ]
     },
     "metadata": {
      "needs_background": "light"
     },
     "output_type": "display_data"
    }
   ],
   "source": [
    "plt.plot(X_train,y_train,\"o\", color=\"green\")\n",
    "plt.plot(X_train,y_train_pred, color=\"orange\")\n",
    "plt.title(\"Crime Rate by year\")\n",
    "plt.xlabel(\"Year\")\n",
    "plt.ylabel(\"Crime Cases\")"
   ]
  },
  {
   "cell_type": "code",
   "execution_count": 58,
   "id": "7c2f5d66",
   "metadata": {},
   "outputs": [
    {
     "data": {
      "text/plain": [
       "(array([40847.93023256, 30240.95348837]), array([55814, 26933]))"
      ]
     },
     "execution_count": 58,
     "metadata": {},
     "output_type": "execute_result"
    }
   ],
   "source": [
    "y_test_pred=model.predict(X_test)\n",
    "y_test_pred, y_test"
   ]
  },
  {
   "cell_type": "code",
   "execution_count": 59,
   "id": "22f28062",
   "metadata": {},
   "outputs": [
    {
     "data": {
      "text/plain": [
       "0.4367045307587507"
      ]
     },
     "execution_count": 59,
     "metadata": {},
     "output_type": "execute_result"
    }
   ],
   "source": [
    "model.score(X_test,y_test)"
   ]
  },
  {
   "cell_type": "code",
   "execution_count": 81,
   "id": "e739842b",
   "metadata": {},
   "outputs": [],
   "source": [
    "import array as arr\n",
    "X1=[[2021],[2022]]\n",
    "#y_pred= model.predict()\n",
    "#y_pred"
   ]
  },
  {
   "cell_type": "code",
   "execution_count": 82,
   "id": "5cede1fb",
   "metadata": {},
   "outputs": [
    {
     "data": {
      "text/plain": [
       "[[2021], [2022]]"
      ]
     },
     "execution_count": 82,
     "metadata": {},
     "output_type": "execute_result"
    }
   ],
   "source": [
    "X1"
   ]
  },
  {
   "cell_type": "code",
   "execution_count": 83,
   "id": "aa6003d4",
   "metadata": {},
   "outputs": [
    {
     "data": {
      "text/plain": [
       "array([43499.6744186 , 46151.41860465])"
      ]
     },
     "execution_count": 83,
     "metadata": {},
     "output_type": "execute_result"
    }
   ],
   "source": [
    "y_pred= model.predict(X1)\n",
    "y_pred"
   ]
  },
  {
   "cell_type": "code",
   "execution_count": null,
   "id": "9b2d6443",
   "metadata": {},
   "outputs": [],
   "source": []
  }
 ],
 "metadata": {
  "kernelspec": {
   "display_name": "Python 3 (ipykernel)",
   "language": "python",
   "name": "python3"
  },
  "language_info": {
   "codemirror_mode": {
    "name": "ipython",
    "version": 3
   },
   "file_extension": ".py",
   "mimetype": "text/x-python",
   "name": "python",
   "nbconvert_exporter": "python",
   "pygments_lexer": "ipython3",
   "version": "3.9.0"
  }
 },
 "nbformat": 4,
 "nbformat_minor": 5
}
