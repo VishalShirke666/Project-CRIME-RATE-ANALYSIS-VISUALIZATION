{
 "cells": [
  {
   "cell_type": "code",
   "execution_count": 1,
   "metadata": {
    "id": "ok4bpKaNgCe5"
   },
   "outputs": [],
   "source": [
    "import pandas as pd\n",
    "import numpy as np\n",
    "import matplotlib.pyplot as plt\n",
    "import seaborn as sns\n",
    "%matplotlib inline"
   ]
  },
  {
   "cell_type": "code",
   "execution_count": 2,
   "metadata": {
    "id": "rrQnI0s6gzUL"
   },
   "outputs": [
    {
     "data": {
      "text/html": [
       "<div>\n",
       "<style scoped>\n",
       "    .dataframe tbody tr th:only-of-type {\n",
       "        vertical-align: middle;\n",
       "    }\n",
       "\n",
       "    .dataframe tbody tr th {\n",
       "        vertical-align: top;\n",
       "    }\n",
       "\n",
       "    .dataframe thead th {\n",
       "        text-align: right;\n",
       "    }\n",
       "</style>\n",
       "<table border=\"1\" class=\"dataframe\">\n",
       "  <thead>\n",
       "    <tr style=\"text-align: right;\">\n",
       "      <th></th>\n",
       "      <th>Homicide/Murder</th>\n",
       "      <th>Causing death by negligence</th>\n",
       "      <th>Hurt</th>\n",
       "      <th>Assault on woman</th>\n",
       "      <th>Kidnapping and abduction</th>\n",
       "      <th>Human trafficking</th>\n",
       "      <th>Rape</th>\n",
       "      <th>Offence against public tranquility</th>\n",
       "      <th>Offences against property</th>\n",
       "      <th>Offences relating to documents and property marks</th>\n",
       "      <th>Miscellaneous</th>\n",
       "      <th>Others</th>\n",
       "      <th>Population</th>\n",
       "      <th>Latitude</th>\n",
       "      <th>Longitude</th>\n",
       "    </tr>\n",
       "  </thead>\n",
       "  <tbody>\n",
       "    <tr>\n",
       "      <th>0</th>\n",
       "      <td>254</td>\n",
       "      <td>620</td>\n",
       "      <td>1826</td>\n",
       "      <td>543</td>\n",
       "      <td>369</td>\n",
       "      <td>0</td>\n",
       "      <td>92</td>\n",
       "      <td>905</td>\n",
       "      <td>3104</td>\n",
       "      <td>220</td>\n",
       "      <td>30535</td>\n",
       "      <td>221</td>\n",
       "      <td>4543159</td>\n",
       "      <td>19.094829</td>\n",
       "      <td>74.747979</td>\n",
       "    </tr>\n",
       "    <tr>\n",
       "      <th>1</th>\n",
       "      <td>114</td>\n",
       "      <td>116</td>\n",
       "      <td>1345</td>\n",
       "      <td>245</td>\n",
       "      <td>76</td>\n",
       "      <td>0</td>\n",
       "      <td>28</td>\n",
       "      <td>111</td>\n",
       "      <td>946</td>\n",
       "      <td>86</td>\n",
       "      <td>4244</td>\n",
       "      <td>213</td>\n",
       "      <td>1813906</td>\n",
       "      <td>20.700216</td>\n",
       "      <td>77.008168</td>\n",
       "    </tr>\n",
       "    <tr>\n",
       "      <th>2</th>\n",
       "      <td>201</td>\n",
       "      <td>354</td>\n",
       "      <td>2133</td>\n",
       "      <td>461</td>\n",
       "      <td>190</td>\n",
       "      <td>0</td>\n",
       "      <td>97</td>\n",
       "      <td>144</td>\n",
       "      <td>2198</td>\n",
       "      <td>250</td>\n",
       "      <td>3921</td>\n",
       "      <td>164</td>\n",
       "      <td>2888445</td>\n",
       "      <td>20.931982</td>\n",
       "      <td>77.752304</td>\n",
       "    </tr>\n",
       "    <tr>\n",
       "      <th>3</th>\n",
       "      <td>139</td>\n",
       "      <td>386</td>\n",
       "      <td>1869</td>\n",
       "      <td>335</td>\n",
       "      <td>242</td>\n",
       "      <td>0</td>\n",
       "      <td>80</td>\n",
       "      <td>428</td>\n",
       "      <td>3821</td>\n",
       "      <td>265</td>\n",
       "      <td>4292</td>\n",
       "      <td>411</td>\n",
       "      <td>3701282</td>\n",
       "      <td>19.876165</td>\n",
       "      <td>75.343314</td>\n",
       "    </tr>\n",
       "    <tr>\n",
       "      <th>4</th>\n",
       "      <td>206</td>\n",
       "      <td>308</td>\n",
       "      <td>1233</td>\n",
       "      <td>248</td>\n",
       "      <td>91</td>\n",
       "      <td>0</td>\n",
       "      <td>50</td>\n",
       "      <td>508</td>\n",
       "      <td>1002</td>\n",
       "      <td>104</td>\n",
       "      <td>1858</td>\n",
       "      <td>111</td>\n",
       "      <td>2585049</td>\n",
       "      <td>18.990088</td>\n",
       "      <td>75.753132</td>\n",
       "    </tr>\n",
       "  </tbody>\n",
       "</table>\n",
       "</div>"
      ],
      "text/plain": [
       "   Homicide/Murder  Causing death by negligence  Hurt  Assault on woman  \\\n",
       "0              254                          620  1826               543   \n",
       "1              114                          116  1345               245   \n",
       "2              201                          354  2133               461   \n",
       "3              139                          386  1869               335   \n",
       "4              206                          308  1233               248   \n",
       "\n",
       "   Kidnapping and abduction  Human trafficking   Rape  \\\n",
       "0                       369                   0    92   \n",
       "1                        76                   0    28   \n",
       "2                       190                   0    97   \n",
       "3                       242                   0    80   \n",
       "4                        91                   0    50   \n",
       "\n",
       "   Offence against public tranquility  Offences against property  \\\n",
       "0                                 905                       3104   \n",
       "1                                 111                        946   \n",
       "2                                 144                       2198   \n",
       "3                                 428                       3821   \n",
       "4                                 508                       1002   \n",
       "\n",
       "   Offences relating to documents and property marks  Miscellaneous  Others  \\\n",
       "0                                                220          30535     221   \n",
       "1                                                 86           4244     213   \n",
       "2                                                250           3921     164   \n",
       "3                                                265           4292     411   \n",
       "4                                                104           1858     111   \n",
       "\n",
       "   Population   Latitude  Longitude  \n",
       "0     4543159  19.094829  74.747979  \n",
       "1     1813906  20.700216  77.008168  \n",
       "2     2888445  20.931982  77.752304  \n",
       "3     3701282  19.876165  75.343314  \n",
       "4     2585049  18.990088  75.753132  "
      ]
     },
     "execution_count": 2,
     "metadata": {},
     "output_type": "execute_result"
    }
   ],
   "source": [
    "#dataset=pd.read_excel(r'DataFinal17-20.xlsx',sheet_name='2020')\n",
    "df=pd.read_excel(r'DataFinal17-20.xlsx',sheet_name='2020')\n",
    "df1=df.iloc[:,2:22]\n",
    "df1=df1.drop(['Total','Crime Rate','Sex Ratio','Literacy','Density'], axis=1)\n",
    "df1.head()"
   ]
  },
  {
   "cell_type": "code",
   "execution_count": 3,
   "metadata": {
    "id": "g2KOmUxzBCIy"
   },
   "outputs": [],
   "source": [
    "#data=pd.read_excel(r'DataFinal17-20.xlsx')"
   ]
  },
  {
   "cell_type": "code",
   "execution_count": 4,
   "metadata": {
    "colab": {
     "base_uri": "https://localhost:8080/",
     "height": 369
    },
    "id": "-xjSN7b7BPaQ",
    "outputId": "9652f973-d0d0-4573-ec4b-aefe3a217f83"
   },
   "outputs": [],
   "source": [
    "#dataset.head()"
   ]
  },
  {
   "cell_type": "code",
   "execution_count": 5,
   "metadata": {
    "colab": {
     "base_uri": "https://localhost:8080/"
    },
    "id": "sSuDOhgFBPTH",
    "outputId": "aec05b47-7a33-446d-d9a0-ea4e757e6d70"
   },
   "outputs": [],
   "source": [
    "#for col in data:\n",
    "#    print (type(data[col][1]))\n",
    "from sklearn import preprocessing\n",
    "from sklearn import utils"
   ]
  },
  {
   "cell_type": "markdown",
   "metadata": {
    "id": "NRsgYCbID4Ek"
   },
   "source": [
    "# Extracting Independent and dependent Variable "
   ]
  },
  {
   "cell_type": "code",
   "execution_count": 6,
   "metadata": {
    "id": "UIF4Igw5D1hq"
   },
   "outputs": [],
   "source": [
    "\n",
    "x= df1.iloc[:, [0,1,2,3,4,5,6,7,8,9,10,11,12]].values  \n",
    "y= df1.iloc[:, [13]].values  \n",
    "#a1 = preprocessing.LabelEncoder()\n",
    "#y_trans = a1.fit_transform(y)"
   ]
  },
  {
   "cell_type": "code",
   "execution_count": 7,
   "metadata": {
    "colab": {
     "base_uri": "https://localhost:8080/"
    },
    "id": "eporgk9SHKWD",
    "outputId": "5bc7cd37-24a3-4cd4-b18e-6c2b8c04103e"
   },
   "outputs": [
    {
     "data": {
      "text/plain": [
       "array([[     254,      620,     1826,      543,      369,        0,\n",
       "              92,      905,     3104,      220,    30535,      221,\n",
       "         4543159],\n",
       "       [     114,      116,     1345,      245,       76,        0,\n",
       "              28,      111,      946,       86,     4244,      213,\n",
       "         1813906],\n",
       "       [     201,      354,     2133,      461,      190,        0,\n",
       "              97,      144,     2198,      250,     3921,      164,\n",
       "         2888445],\n",
       "       [     139,      386,     1869,      335,      242,        0,\n",
       "              80,      428,     3821,      265,     4292,      411,\n",
       "         3701282],\n",
       "       [     206,      308,     1233,      248,       91,        0,\n",
       "              50,      508,     1002,      104,     1858,      111,\n",
       "         2585049],\n",
       "       [      41,      141,      486,       88,       71,        0,\n",
       "              16,       43,      676,       60,     1051,       54,\n",
       "         1200334],\n",
       "       [     122,      293,     2099,      313,      110,        0,\n",
       "              36,      320,     1269,      102,     3024,      104,\n",
       "         2586258],\n",
       "       [     105,      234,     1147,      194,      152,        1,\n",
       "              46,       84,      980,      108,     2235,      355,\n",
       "         2204307],\n",
       "       [      84,      352,      433,       80,       98,        1,\n",
       "              14,      205,      781,       77,     1237,      175,\n",
       "         2050862],\n",
       "       [      65,      135,      303,       55,       32,        0,\n",
       "              17,       21,      302,       41,      427,       27,\n",
       "         1072942],\n",
       "       [      50,      131,      311,       57,       40,        0,\n",
       "              18,       23,      400,       30,      996,      134,\n",
       "         1322507],\n",
       "       [      75,      119,      649,       73,       27,        0,\n",
       "              15,      140,      436,       35,     1314,       30,\n",
       "         1177345],\n",
       "       [     192,      439,      901,      259,      187,        0,\n",
       "              34,      440,     2045,      248,     4353,      256,\n",
       "         4229917],\n",
       "       [     133,      209,     1436,      208,      100,        0,\n",
       "              36,      411,     1618,      170,     1164,      770,\n",
       "         1959046],\n",
       "       [     146,      313,     1020,      263,      150,       15,\n",
       "              54,      388,     1357,      222,     5190,      202,\n",
       "         3876001],\n",
       "       [     104,      244,     1077,      138,      111,        3,\n",
       "              26,      303,      964,       94,     2000,       82,\n",
       "         2454196],\n",
       "       [     521,      349,     4171,     1553,     1180,       58,\n",
       "             331,      392,    17530,     3425,    19788,     9146,\n",
       "        12442373],\n",
       "       [     299,      581,     2252,      386,      442,       13,\n",
       "             120,      199,     4980,      568,     9647,      312,\n",
       "         4653570],\n",
       "       [     143,      252,     1778,      232,      127,        1,\n",
       "              40,      307,     1464,      114,     2970,       86,\n",
       "         3361292],\n",
       "       [      62,      133,      255,       44,       57,        0,\n",
       "              17,      116,      429,       38,     2930,     3053,\n",
       "         1648295],\n",
       "       [     240,      917,     1720,      384,      473,        1,\n",
       "              65,      637,     2528,      529,    18068,      347,\n",
       "         6107187],\n",
       "       [      79,      232,      466,      158,      217,        4,\n",
       "              62,       95,     1859,      500,     1827,       85,\n",
       "         1120547],\n",
       "       [      92,      253,      847,      123,       87,        0,\n",
       "              21,      247,      685,       80,     1126,       61,\n",
       "         1657576],\n",
       "       [     165,      121,     1227,      139,       65,        0,\n",
       "              33,      119,      924,       94,     1468,       84,\n",
       "         1836086],\n",
       "       [     649,     1102,     3540,      936,     1113,       28,\n",
       "             243,     1227,     7935,      999,    37271,      771,\n",
       "         9429408],\n",
       "       [      47,      191,      334,       77,       73,        0,\n",
       "              20,      165,      533,      141,      474,      105,\n",
       "         2634200],\n",
       "       [      39,      106,      250,       53,       43,        0,\n",
       "              11,      109,      361,      113,      388,       18,\n",
       "         1615069],\n",
       "       [     207,      269,     1344,      250,      228,        2,\n",
       "              39,      340,     1678,      197,     1756,      293,\n",
       "         2822143],\n",
       "       [     145,      359,     1017,      275,      192,        2,\n",
       "              49,      481,     1557,      183,     2986,      162,\n",
       "         3003741],\n",
       "       [      18,       50,      241,       53,       18,        0,\n",
       "               6,       43,      178,       48,      330,       14,\n",
       "          849651],\n",
       "       [     246,      461,     2437,      449,      276,        8,\n",
       "              96,      786,     3046,      289,     2906,     3744,\n",
       "         4317756],\n",
       "       [     336,      814,     3187,      746,     1159,       30,\n",
       "             243,      687,     6209,     1211,     8009,      997,\n",
       "        11060148],\n",
       "       [      86,      170,     1394,      197,      113,        0,\n",
       "              25,       44,      741,       88,     1980,       24,\n",
       "         1300774],\n",
       "       [     114,      110,      855,      163,       66,        0,\n",
       "              24,      142,      449,       39,     3699,       29,\n",
       "         1197160],\n",
       "       [     140,      310,     1431,      187,      128,        1,\n",
       "              44,       85,      923,       56,     4117,      138,\n",
       "         2772348]], dtype=int64)"
      ]
     },
     "execution_count": 7,
     "metadata": {},
     "output_type": "execute_result"
    }
   ],
   "source": [
    "x"
   ]
  },
  {
   "cell_type": "code",
   "execution_count": 8,
   "metadata": {
    "colab": {
     "base_uri": "https://localhost:8080/"
    },
    "id": "0bVAch5fGFk8",
    "outputId": "152d4f77-9eb2-4904-b239-5689adcbce0b"
   },
   "outputs": [
    {
     "data": {
      "text/plain": [
       "array([[19.0948287],\n",
       "       [20.7002159],\n",
       "       [20.9319821],\n",
       "       [19.8761653],\n",
       "       [18.990088 ],\n",
       "       [21.177658 ],\n",
       "       [20.5292147],\n",
       "       [19.9615398],\n",
       "       [20.9042201],\n",
       "       [20.184871 ],\n",
       "       [21.4549477],\n",
       "       [19.7173703],\n",
       "       [21.0076578],\n",
       "       [19.8346659],\n",
       "       [16.7049873],\n",
       "       [18.4087934],\n",
       "       [19.0759837],\n",
       "       [19.1538231],\n",
       "       [21.1458004],\n",
       "       [19.1382514],\n",
       "       [21.7468548],\n",
       "       [19.9974533],\n",
       "       [18.185332 ],\n",
       "       [19.2608384],\n",
       "       [18.5204303],\n",
       "       [18.2376278],\n",
       "       [16.990215 ],\n",
       "       [16.8523973],\n",
       "       [17.6804639],\n",
       "       [16.3492193],\n",
       "       [17.6599188],\n",
       "       [19.2183307],\n",
       "       [20.745319 ],\n",
       "       [20.1119123],\n",
       "       [20.3899385]])"
      ]
     },
     "execution_count": 8,
     "metadata": {},
     "output_type": "execute_result"
    }
   ],
   "source": [
    "y"
   ]
  },
  {
   "cell_type": "markdown",
   "metadata": {
    "id": "oTycOo5bE9y8"
   },
   "source": [
    "# Splitting the dataset into training and test set  "
   ]
  },
  {
   "cell_type": "code",
   "execution_count": 9,
   "metadata": {
    "id": "XUSdf14pE9U9"
   },
   "outputs": [],
   "source": [
    "from sklearn.model_selection import train_test_split  \n",
    "x_train, x_test, y_train, y_test= train_test_split(x, y, test_size= 0.25, random_state=0) "
   ]
  },
  {
   "cell_type": "code",
   "execution_count": 10,
   "metadata": {
    "colab": {
     "base_uri": "https://localhost:8080/"
    },
    "id": "_Yu0tK55GD9V",
    "outputId": "ff7368f3-7585-481c-d0df-4b33bc8ffd2e"
   },
   "outputs": [
    {
     "data": {
      "text/plain": [
       "array([[     207,      269,     1344,      250,      228,        2,\n",
       "              39,      340,     1678,      197,     1756,      293,\n",
       "         2822143],\n",
       "       [      47,      191,      334,       77,       73,        0,\n",
       "              20,      165,      533,      141,      474,      105,\n",
       "         2634200],\n",
       "       [     140,      310,     1431,      187,      128,        1,\n",
       "              44,       85,      923,       56,     4117,      138,\n",
       "         2772348],\n",
       "       [      86,      170,     1394,      197,      113,        0,\n",
       "              25,       44,      741,       88,     1980,       24,\n",
       "         1300774],\n",
       "       [      39,      106,      250,       53,       43,        0,\n",
       "              11,      109,      361,      113,      388,       18,\n",
       "         1615069],\n",
       "       [     246,      461,     2437,      449,      276,        8,\n",
       "              96,      786,     3046,      289,     2906,     3744,\n",
       "         4317756],\n",
       "       [      84,      352,      433,       80,       98,        1,\n",
       "              14,      205,      781,       77,     1237,      175,\n",
       "         2050862],\n",
       "       [     133,      209,     1436,      208,      100,        0,\n",
       "              36,      411,     1618,      170,     1164,      770,\n",
       "         1959046],\n",
       "       [      41,      141,      486,       88,       71,        0,\n",
       "              16,       43,      676,       60,     1051,       54,\n",
       "         1200334],\n",
       "       [     299,      581,     2252,      386,      442,       13,\n",
       "             120,      199,     4980,      568,     9647,      312,\n",
       "         4653570],\n",
       "       [     146,      313,     1020,      263,      150,       15,\n",
       "              54,      388,     1357,      222,     5190,      202,\n",
       "         3876001],\n",
       "       [     336,      814,     3187,      746,     1159,       30,\n",
       "             243,      687,     6209,     1211,     8009,      997,\n",
       "        11060148],\n",
       "       [     649,     1102,     3540,      936,     1113,       28,\n",
       "             243,     1227,     7935,      999,    37271,      771,\n",
       "         9429408],\n",
       "       [     114,      116,     1345,      245,       76,        0,\n",
       "              28,      111,      946,       86,     4244,      213,\n",
       "         1813906],\n",
       "       [     192,      439,      901,      259,      187,        0,\n",
       "              34,      440,     2045,      248,     4353,      256,\n",
       "         4229917],\n",
       "       [     122,      293,     2099,      313,      110,        0,\n",
       "              36,      320,     1269,      102,     3024,      104,\n",
       "         2586258],\n",
       "       [     165,      121,     1227,      139,       65,        0,\n",
       "              33,      119,      924,       94,     1468,       84,\n",
       "         1836086],\n",
       "       [     206,      308,     1233,      248,       91,        0,\n",
       "              50,      508,     1002,      104,     1858,      111,\n",
       "         2585049],\n",
       "       [     143,      252,     1778,      232,      127,        1,\n",
       "              40,      307,     1464,      114,     2970,       86,\n",
       "         3361292],\n",
       "       [      79,      232,      466,      158,      217,        4,\n",
       "              62,       95,     1859,      500,     1827,       85,\n",
       "         1120547],\n",
       "       [      62,      133,      255,       44,       57,        0,\n",
       "              17,      116,      429,       38,     2930,     3053,\n",
       "         1648295],\n",
       "       [      65,      135,      303,       55,       32,        0,\n",
       "              17,       21,      302,       41,      427,       27,\n",
       "         1072942],\n",
       "       [     105,      234,     1147,      194,      152,        1,\n",
       "              46,       84,      980,      108,     2235,      355,\n",
       "         2204307],\n",
       "       [     114,      110,      855,      163,       66,        0,\n",
       "              24,      142,      449,       39,     3699,       29,\n",
       "         1197160],\n",
       "       [     139,      386,     1869,      335,      242,        0,\n",
       "              80,      428,     3821,      265,     4292,      411,\n",
       "         3701282],\n",
       "       [     254,      620,     1826,      543,      369,        0,\n",
       "              92,      905,     3104,      220,    30535,      221,\n",
       "         4543159]], dtype=int64)"
      ]
     },
     "execution_count": 10,
     "metadata": {},
     "output_type": "execute_result"
    }
   ],
   "source": [
    "x_train"
   ]
  },
  {
   "cell_type": "code",
   "execution_count": 11,
   "metadata": {
    "colab": {
     "base_uri": "https://localhost:8080/"
    },
    "id": "MX7MZWcRHalg",
    "outputId": "56628b82-958f-423a-8d19-ba7cacf40a08"
   },
   "outputs": [
    {
     "data": {
      "text/plain": [
       "array([[      18,       50,      241,       53,       18,        0,\n",
       "               6,       43,      178,       48,      330,       14,\n",
       "          849651],\n",
       "       [     240,      917,     1720,      384,      473,        1,\n",
       "              65,      637,     2528,      529,    18068,      347,\n",
       "         6107187],\n",
       "       [     521,      349,     4171,     1553,     1180,       58,\n",
       "             331,      392,    17530,     3425,    19788,     9146,\n",
       "        12442373],\n",
       "       [     145,      359,     1017,      275,      192,        2,\n",
       "              49,      481,     1557,      183,     2986,      162,\n",
       "         3003741],\n",
       "       [      92,      253,      847,      123,       87,        0,\n",
       "              21,      247,      685,       80,     1126,       61,\n",
       "         1657576],\n",
       "       [     104,      244,     1077,      138,      111,        3,\n",
       "              26,      303,      964,       94,     2000,       82,\n",
       "         2454196],\n",
       "       [      50,      131,      311,       57,       40,        0,\n",
       "              18,       23,      400,       30,      996,      134,\n",
       "         1322507],\n",
       "       [     201,      354,     2133,      461,      190,        0,\n",
       "              97,      144,     2198,      250,     3921,      164,\n",
       "         2888445],\n",
       "       [      75,      119,      649,       73,       27,        0,\n",
       "              15,      140,      436,       35,     1314,       30,\n",
       "         1177345]], dtype=int64)"
      ]
     },
     "execution_count": 11,
     "metadata": {},
     "output_type": "execute_result"
    }
   ],
   "source": [
    "x_test"
   ]
  },
  {
   "cell_type": "code",
   "execution_count": 12,
   "metadata": {
    "colab": {
     "base_uri": "https://localhost:8080/"
    },
    "id": "qGvrvtSJHemA",
    "outputId": "a53e2646-1b17-4244-c847-21200f79b101"
   },
   "outputs": [
    {
     "data": {
      "text/plain": [
       "array([[16.8523973],\n",
       "       [18.2376278],\n",
       "       [20.3899385],\n",
       "       [20.745319 ],\n",
       "       [16.990215 ],\n",
       "       [17.6599188],\n",
       "       [20.9042201],\n",
       "       [19.8346659],\n",
       "       [21.177658 ],\n",
       "       [19.1538231],\n",
       "       [16.7049873],\n",
       "       [19.2183307],\n",
       "       [18.5204303],\n",
       "       [20.7002159],\n",
       "       [21.0076578],\n",
       "       [20.5292147],\n",
       "       [19.2608384],\n",
       "       [18.990088 ],\n",
       "       [21.1458004],\n",
       "       [19.9974533],\n",
       "       [19.1382514],\n",
       "       [20.184871 ],\n",
       "       [19.9615398],\n",
       "       [20.1119123],\n",
       "       [19.8761653],\n",
       "       [19.0948287]])"
      ]
     },
     "execution_count": 12,
     "metadata": {},
     "output_type": "execute_result"
    }
   ],
   "source": [
    "y_train"
   ]
  },
  {
   "cell_type": "code",
   "execution_count": 13,
   "metadata": {
    "colab": {
     "base_uri": "https://localhost:8080/"
    },
    "id": "jA3ospgRHjQB",
    "outputId": "7603b511-d05f-4dbc-ab38-47ea1d7701a0"
   },
   "outputs": [
    {
     "data": {
      "text/plain": [
       "array([[16.3492193],\n",
       "       [21.7468548],\n",
       "       [19.0759837],\n",
       "       [17.6804639],\n",
       "       [18.185332 ],\n",
       "       [18.4087934],\n",
       "       [21.4549477],\n",
       "       [20.9319821],\n",
       "       [19.7173703]])"
      ]
     },
     "execution_count": 13,
     "metadata": {},
     "output_type": "execute_result"
    }
   ],
   "source": [
    "y_test"
   ]
  },
  {
   "cell_type": "markdown",
   "metadata": {
    "id": "LzRhSx9yJNsl"
   },
   "source": [
    "# Fitting K-NN classifier to the training set  "
   ]
  },
  {
   "cell_type": "code",
   "execution_count": 14,
   "metadata": {
    "colab": {
     "base_uri": "https://localhost:8080/",
     "height": 363
    },
    "id": "W8gPDNdCJI0s",
    "outputId": "a6d1b82c-388e-494b-9896-cb8617e07d02"
   },
   "outputs": [
    {
     "name": "stderr",
     "output_type": "stream",
     "text": [
      "c:\\users\\welcome\\appdata\\local\\programs\\python\\python39\\lib\\site-packages\\sklearn\\neighbors\\_classification.py:179: DataConversionWarning: A column-vector y was passed when a 1d array was expected. Please change the shape of y to (n_samples,), for example using ravel().\n",
      "  return self._fit(X, y)\n"
     ]
    },
    {
     "ename": "ValueError",
     "evalue": "Unknown label type: 'continuous'",
     "output_type": "error",
     "traceback": [
      "\u001b[1;31m---------------------------------------------------------------------------\u001b[0m",
      "\u001b[1;31mValueError\u001b[0m                                Traceback (most recent call last)",
      "\u001b[1;32m~\\AppData\\Local\\Temp/ipykernel_428/3774928810.py\u001b[0m in \u001b[0;36m<module>\u001b[1;34m\u001b[0m\n\u001b[0;32m      1\u001b[0m \u001b[1;32mfrom\u001b[0m \u001b[0msklearn\u001b[0m\u001b[1;33m.\u001b[0m\u001b[0mneighbors\u001b[0m \u001b[1;32mimport\u001b[0m \u001b[0mKNeighborsClassifier\u001b[0m\u001b[1;33m\u001b[0m\u001b[1;33m\u001b[0m\u001b[0m\n\u001b[0;32m      2\u001b[0m \u001b[0mknn\u001b[0m \u001b[1;33m=\u001b[0m \u001b[0mKNeighborsClassifier\u001b[0m\u001b[1;33m(\u001b[0m\u001b[0mn_neighbors\u001b[0m\u001b[1;33m=\u001b[0m\u001b[1;36m10\u001b[0m\u001b[1;33m)\u001b[0m\u001b[1;33m\u001b[0m\u001b[1;33m\u001b[0m\u001b[0m\n\u001b[1;32m----> 3\u001b[1;33m \u001b[0mknn\u001b[0m\u001b[1;33m.\u001b[0m\u001b[0mfit\u001b[0m\u001b[1;33m(\u001b[0m\u001b[0mx_train\u001b[0m\u001b[1;33m,\u001b[0m\u001b[0my_train\u001b[0m\u001b[1;33m)\u001b[0m\u001b[1;33m\u001b[0m\u001b[1;33m\u001b[0m\u001b[0m\n\u001b[0m",
      "\u001b[1;32mc:\\users\\welcome\\appdata\\local\\programs\\python\\python39\\lib\\site-packages\\sklearn\\neighbors\\_classification.py\u001b[0m in \u001b[0;36mfit\u001b[1;34m(self, X, y)\u001b[0m\n\u001b[0;32m    177\u001b[0m             \u001b[0mThe\u001b[0m \u001b[0mfitted\u001b[0m \u001b[0mk\u001b[0m\u001b[1;33m-\u001b[0m\u001b[0mnearest\u001b[0m \u001b[0mneighbors\u001b[0m \u001b[0mclassifier\u001b[0m\u001b[1;33m.\u001b[0m\u001b[1;33m\u001b[0m\u001b[1;33m\u001b[0m\u001b[0m\n\u001b[0;32m    178\u001b[0m         \"\"\"\n\u001b[1;32m--> 179\u001b[1;33m         \u001b[1;32mreturn\u001b[0m \u001b[0mself\u001b[0m\u001b[1;33m.\u001b[0m\u001b[0m_fit\u001b[0m\u001b[1;33m(\u001b[0m\u001b[0mX\u001b[0m\u001b[1;33m,\u001b[0m \u001b[0my\u001b[0m\u001b[1;33m)\u001b[0m\u001b[1;33m\u001b[0m\u001b[1;33m\u001b[0m\u001b[0m\n\u001b[0m\u001b[0;32m    180\u001b[0m \u001b[1;33m\u001b[0m\u001b[0m\n\u001b[0;32m    181\u001b[0m     \u001b[1;32mdef\u001b[0m \u001b[0mpredict\u001b[0m\u001b[1;33m(\u001b[0m\u001b[0mself\u001b[0m\u001b[1;33m,\u001b[0m \u001b[0mX\u001b[0m\u001b[1;33m)\u001b[0m\u001b[1;33m:\u001b[0m\u001b[1;33m\u001b[0m\u001b[1;33m\u001b[0m\u001b[0m\n",
      "\u001b[1;32mc:\\users\\welcome\\appdata\\local\\programs\\python\\python39\\lib\\site-packages\\sklearn\\neighbors\\_base.py\u001b[0m in \u001b[0;36m_fit\u001b[1;34m(self, X, y)\u001b[0m\n\u001b[0;32m    379\u001b[0m                     \u001b[0mself\u001b[0m\u001b[1;33m.\u001b[0m\u001b[0moutputs_2d_\u001b[0m \u001b[1;33m=\u001b[0m \u001b[1;32mTrue\u001b[0m\u001b[1;33m\u001b[0m\u001b[1;33m\u001b[0m\u001b[0m\n\u001b[0;32m    380\u001b[0m \u001b[1;33m\u001b[0m\u001b[0m\n\u001b[1;32m--> 381\u001b[1;33m                 \u001b[0mcheck_classification_targets\u001b[0m\u001b[1;33m(\u001b[0m\u001b[0my\u001b[0m\u001b[1;33m)\u001b[0m\u001b[1;33m\u001b[0m\u001b[1;33m\u001b[0m\u001b[0m\n\u001b[0m\u001b[0;32m    382\u001b[0m                 \u001b[0mself\u001b[0m\u001b[1;33m.\u001b[0m\u001b[0mclasses_\u001b[0m \u001b[1;33m=\u001b[0m \u001b[1;33m[\u001b[0m\u001b[1;33m]\u001b[0m\u001b[1;33m\u001b[0m\u001b[1;33m\u001b[0m\u001b[0m\n\u001b[0;32m    383\u001b[0m                 \u001b[0mself\u001b[0m\u001b[1;33m.\u001b[0m\u001b[0m_y\u001b[0m \u001b[1;33m=\u001b[0m \u001b[0mnp\u001b[0m\u001b[1;33m.\u001b[0m\u001b[0mempty\u001b[0m\u001b[1;33m(\u001b[0m\u001b[0my\u001b[0m\u001b[1;33m.\u001b[0m\u001b[0mshape\u001b[0m\u001b[1;33m,\u001b[0m \u001b[0mdtype\u001b[0m\u001b[1;33m=\u001b[0m\u001b[0mint\u001b[0m\u001b[1;33m)\u001b[0m\u001b[1;33m\u001b[0m\u001b[1;33m\u001b[0m\u001b[0m\n",
      "\u001b[1;32mc:\\users\\welcome\\appdata\\local\\programs\\python\\python39\\lib\\site-packages\\sklearn\\utils\\multiclass.py\u001b[0m in \u001b[0;36mcheck_classification_targets\u001b[1;34m(y)\u001b[0m\n\u001b[0;32m    181\u001b[0m     if y_type not in ['binary', 'multiclass', 'multiclass-multioutput',\n\u001b[0;32m    182\u001b[0m                       'multilabel-indicator', 'multilabel-sequences']:\n\u001b[1;32m--> 183\u001b[1;33m         \u001b[1;32mraise\u001b[0m \u001b[0mValueError\u001b[0m\u001b[1;33m(\u001b[0m\u001b[1;34m\"Unknown label type: %r\"\u001b[0m \u001b[1;33m%\u001b[0m \u001b[0my_type\u001b[0m\u001b[1;33m)\u001b[0m\u001b[1;33m\u001b[0m\u001b[1;33m\u001b[0m\u001b[0m\n\u001b[0m\u001b[0;32m    184\u001b[0m \u001b[1;33m\u001b[0m\u001b[0m\n\u001b[0;32m    185\u001b[0m \u001b[1;33m\u001b[0m\u001b[0m\n",
      "\u001b[1;31mValueError\u001b[0m: Unknown label type: 'continuous'"
     ]
    }
   ],
   "source": [
    "from sklearn.neighbors import KNeighborsClassifier\n",
    "knn = KNeighborsClassifier(n_neighbors=10)\n",
    "knn.fit(x_train,y_train) "
   ]
  },
  {
   "cell_type": "code",
   "execution_count": null,
   "metadata": {},
   "outputs": [],
   "source": []
  }
 ],
 "metadata": {
  "colab": {
   "collapsed_sections": [],
   "provenance": []
  },
  "kernelspec": {
   "display_name": "Python 3 (ipykernel)",
   "language": "python",
   "name": "python3"
  },
  "language_info": {
   "codemirror_mode": {
    "name": "ipython",
    "version": 3
   },
   "file_extension": ".py",
   "mimetype": "text/x-python",
   "name": "python",
   "nbconvert_exporter": "python",
   "pygments_lexer": "ipython3",
   "version": "3.9.0"
  }
 },
 "nbformat": 4,
 "nbformat_minor": 1
}
